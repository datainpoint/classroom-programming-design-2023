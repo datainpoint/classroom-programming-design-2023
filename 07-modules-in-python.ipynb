{
 "cells": [
  {
   "cell_type": "markdown",
   "metadata": {
    "slideshow": {
     "slide_type": "slide"
    }
   },
   "source": [
    "# Programming Design\n",
    "\n",
    "> Modules in Python\n",
    "\n",
    "Yao-Jen Kuo <yaojenkuo@ntu.edu.tw> from [DATAINPOINT](https://www.datainpoint.com/)"
   ]
  },
  {
   "cell_type": "markdown",
   "metadata": {
    "slideshow": {
     "slide_type": "slide"
    }
   },
   "source": [
    "## Modules"
   ]
  },
  {
   "cell_type": "markdown",
   "metadata": {
    "slideshow": {
     "slide_type": "subslide"
    }
   },
   "source": [
    "## What is a module in Python?\n",
    "\n",
    "A Python module is a file with the extension of `.py` which consists of a couple of functions or classes. A Python module can also be in the form of a folder which consists of a couple of files with the extension of `.py`."
   ]
  },
  {
   "cell_type": "markdown",
   "metadata": {
    "slideshow": {
     "slide_type": "subslide"
    }
   },
   "source": [
    "## Standard modules\n",
    "\n",
    "- Modules distributed with Python are called **standard modules**.\n",
    "- We can literally **see** them in our environment."
   ]
  },
  {
   "cell_type": "markdown",
   "metadata": {
    "slideshow": {
     "slide_type": "subslide"
    }
   },
   "source": [
    "## Use `__file__` attribute to find the location of a certain module\n",
    "\n",
    "Use `import` keyword to specify the module we are about to leverage.\n",
    "\n",
    "```python\n",
    "import standard_module\n",
    "\n",
    "print(standard_module.__file__)\n",
    "```"
   ]
  },
  {
   "cell_type": "markdown",
   "metadata": {
    "slideshow": {
     "slide_type": "subslide"
    }
   },
   "source": [
    "## Use `cd` to change directory\n",
    "\n",
    "- `cd` stands for change director.\n",
    "- Type `cd path/of/modules/file/location` then press Enter."
   ]
  },
  {
   "cell_type": "markdown",
   "metadata": {
    "slideshow": {
     "slide_type": "subslide"
    }
   },
   "source": [
    "## Use `ls` to see some standard modules\n",
    "\n",
    "- `ls` stands for list.\n",
    "- We can literally see some of the modules."
   ]
  },
  {
   "cell_type": "markdown",
   "metadata": {
    "slideshow": {
     "slide_type": "subslide"
    }
   },
   "source": [
    "## Create a module locally\n",
    "\n",
    "- Create an empty `simple_calculator.py` in working directory.\n",
    "- Working directory refers to the path where running notebook locates."
   ]
  },
  {
   "cell_type": "markdown",
   "metadata": {
    "slideshow": {
     "slide_type": "subslide"
    }
   },
   "source": [
    "## Copy the previously defined `SimpleCalculator` class and paste onto `simple_calculator.py`"
   ]
  },
  {
   "cell_type": "code",
   "execution_count": 36,
   "metadata": {
    "slideshow": {
     "slide_type": "subslide"
    }
   },
   "outputs": [],
   "source": [
    "# simple_calculator.py\n",
    "class SimpleCalculator:\n",
    "    \"\"\"\n",
    "    This class creates a simple calculator that is able to add and subtract 2 numbers.\n",
    "    This class has an attribute of Euler's number: e.\n",
    "    \"\"\"\n",
    "    def __init__(self):\n",
    "        self.e = 2.71828182846\n",
    "    def __repr__(self):\n",
    "        return \"A Simple Calculator Class.\"\n",
    "    def add(self, x: int, y: int) -> int:\n",
    "        return x + y\n",
    "    def subtract(self, x: int, y: int) -> int:\n",
    "        return x - y\n",
    "    def exp(self, n: int) -> float:\n",
    "        return self.e**n"
   ]
  },
  {
   "cell_type": "markdown",
   "metadata": {
    "slideshow": {
     "slide_type": "subslide"
    }
   },
   "source": [
    "## Import pre-defined class from a module\n",
    "\n",
    "- Use `import` keyword to specify the module we are about to leverage.\n",
    "- Use `as` keyword for alias.\n",
    "\n",
    "```python\n",
    "import module_name\n",
    "import module_name as alias\n",
    "```"
   ]
  },
  {
   "cell_type": "markdown",
   "metadata": {
    "slideshow": {
     "slide_type": "subslide"
    }
   },
   "source": [
    "## Use `.` to specify affiliations"
   ]
  },
  {
   "cell_type": "code",
   "execution_count": 37,
   "metadata": {},
   "outputs": [
    {
     "name": "stdout",
     "output_type": "stream",
     "text": [
      "2.71828182846\n",
      "5566\n"
     ]
    }
   ],
   "source": [
    "import simple_calculator\n",
    "\n",
    "sim_calc = simple_calculator.SimpleCalculator()\n",
    "print(sim_calc.e)\n",
    "print(sim_calc.add('55', '66'))"
   ]
  },
  {
   "cell_type": "code",
   "execution_count": 38,
   "metadata": {
    "slideshow": {
     "slide_type": "subslide"
    }
   },
   "outputs": [
    {
     "name": "stdout",
     "output_type": "stream",
     "text": [
      "2.71828182846\n",
      "5566\n"
     ]
    }
   ],
   "source": [
    "import simple_calculator as sc\n",
    "\n",
    "sim_calc = sc.SimpleCalculator()\n",
    "print(sim_calc.e)\n",
    "print(sim_calc.add('55', '66'))"
   ]
  },
  {
   "cell_type": "markdown",
   "metadata": {
    "slideshow": {
     "slide_type": "subslide"
    }
   },
   "source": [
    "## Import specific feature from a module\n",
    "\n",
    "- A module may consist of a couple of functions or classes.\n",
    "- Use `from` and `import` keywords to leverage a specific feature.\n",
    "\n",
    "```python\n",
    "from module_name import class_name as alias\n",
    "from module_name import function_name as alias\n",
    "```"
   ]
  },
  {
   "cell_type": "code",
   "execution_count": 39,
   "metadata": {
    "slideshow": {
     "slide_type": "subslide"
    }
   },
   "outputs": [
    {
     "name": "stdout",
     "output_type": "stream",
     "text": [
      "2.71828182846\n",
      "5566\n"
     ]
    }
   ],
   "source": [
    "from simple_calculator import SimpleCalculator\n",
    "\n",
    "sim_calc = SimpleCalculator()\n",
    "print(sim_calc.e)\n",
    "print(sim_calc.add('55', '66'))"
   ]
  },
  {
   "cell_type": "code",
   "execution_count": 40,
   "metadata": {
    "slideshow": {
     "slide_type": "subslide"
    }
   },
   "outputs": [
    {
     "name": "stdout",
     "output_type": "stream",
     "text": [
      "2.71828182846\n",
      "5566\n"
     ]
    }
   ],
   "source": [
    "from simple_calculator import SimpleCalculator as SC\n",
    "\n",
    "sim_calc = SC()\n",
    "print(sim_calc.e)\n",
    "print(sim_calc.add('55', '66'))"
   ]
  }
 ],
 "metadata": {
  "celltoolbar": "Slideshow",
  "kernelspec": {
   "display_name": "Python 3 (ipykernel)",
   "language": "python",
   "name": "python3"
  },
  "language_info": {
   "codemirror_mode": {
    "name": "ipython",
    "version": 3
   },
   "file_extension": ".py",
   "mimetype": "text/x-python",
   "name": "python",
   "nbconvert_exporter": "python",
   "pygments_lexer": "ipython3",
   "version": "3.9.12"
  }
 },
 "nbformat": 4,
 "nbformat_minor": 4
}
