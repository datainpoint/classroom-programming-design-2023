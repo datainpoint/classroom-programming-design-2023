{
 "cells": [
  {
   "cell_type": "markdown",
   "metadata": {
    "slideshow": {
     "slide_type": "slide"
    }
   },
   "source": [
    "# Programming Design\n",
    "\n",
    "> Python for Data Science(A Glimpse)\n",
    "\n",
    "Yao-Jen Kuo <yaojenkuo@ntu.edu.tw> from [DATAINPOINT](https://www.datainpoint.com/)"
   ]
  },
  {
   "cell_type": "markdown",
   "metadata": {
    "slideshow": {
     "slide_type": "slide"
    }
   },
   "source": [
    "## Modern Data Science"
   ]
  },
  {
   "cell_type": "markdown",
   "metadata": {
    "slideshow": {
     "slide_type": "subslide"
    }
   },
   "source": [
    "## The definition of modern data science\n",
    "\n",
    "> Modern data science is a huge field, it involves applications and tools like importing, tidying, transformation, visualization, modeling, and communication. Surrounding all these is programming.\n",
    "\n",
    "![Imgur](https://i.imgur.com/din6Ig6.png)\n",
    "\n",
    "Source: [R for Data Science](https://r4ds.had.co.nz/)"
   ]
  },
  {
   "cell_type": "markdown",
   "metadata": {
    "slideshow": {
     "slide_type": "subslide"
    }
   },
   "source": [
    "## How to apply Python in modern data science\n",
    "\n",
    "- Requests: Import.\n",
    "- BeautifulSoup4: Import.\n",
    "- NumPy: Import, Tidy, Transform, Visualize, Model.\n",
    "- Pandas: Import, Tidy, Transform, Visualize.\n",
    "- Matplotlib: Visualize, Communicate.\n",
    "- Scikit-Learn: Model.\n",
    "- TensorFlow.Keras: Model."
   ]
  },
  {
   "cell_type": "markdown",
   "metadata": {
    "slideshow": {
     "slide_type": "subslide"
    }
   },
   "source": [
    "## Create an environment for data science\n",
    "\n",
    "```bash\n",
    "(base) conda create --name datascience python=3.9\n",
    "(base) conda activate datascience\n",
    "(datascience) conda install requests numpy pandas matplotlib scikit-learn\n",
    "(datascience) pip install tensorflow\n",
    "```"
   ]
  },
  {
   "cell_type": "markdown",
   "metadata": {
    "slideshow": {
     "slide_type": "slide"
    }
   },
   "source": [
    "## A Glimpse on Requests"
   ]
  },
  {
   "cell_type": "markdown",
   "metadata": {
    "slideshow": {
     "slide_type": "subslide"
    }
   },
   "source": [
    "## What is Requests?\n",
    "\n",
    "> Requests is an elegant and simple HTTP library for Python, built for human being.\n",
    "\n",
    "Source: <https://requests.readthedocs.io/en/master>"
   ]
  },
  {
   "cell_type": "code",
   "execution_count": 2,
   "metadata": {},
   "outputs": [],
   "source": [
    "import requests"
   ]
  },
  {
   "cell_type": "markdown",
   "metadata": {
    "slideshow": {
     "slide_type": "subslide"
    }
   },
   "source": [
    "##  Common HTTP request methods in web scraping\n",
    "\n",
    "- GET method.\n",
    "- POST method.\n",
    "\n",
    "Source: <https://developer.mozilla.org/en-US/docs/Web/HTTP/Methods>"
   ]
  },
  {
   "cell_type": "markdown",
   "metadata": {
    "slideshow": {
     "slide_type": "subslide"
    }
   },
   "source": [
    "## Requesting data with functions\n",
    "\n",
    "- `requests.get(request_url)`: Make a request with GET method.\n",
    "- `requests.post(request_url)`: Make a request with POST method."
   ]
  },
  {
   "cell_type": "code",
   "execution_count": 3,
   "metadata": {
    "slideshow": {
     "slide_type": "subslide"
    }
   },
   "outputs": [
    {
     "name": "stdout",
     "output_type": "stream",
     "text": [
      "200\n"
     ]
    }
   ],
   "source": [
    "# requests.get()\n",
    "request_url = \"https://www.imdb.com/chart/top\"\n",
    "request_headers = {\n",
    "    \"accept-language\": \"en-US,en;q=1.0\"\n",
    "}\n",
    "response = requests.get(request_url, headers=request_headers)\n",
    "print(response.status_code)"
   ]
  },
  {
   "cell_type": "code",
   "execution_count": 4,
   "metadata": {
    "slideshow": {
     "slide_type": "subslide"
    }
   },
   "outputs": [
    {
     "name": "stdout",
     "output_type": "stream",
     "text": [
      "['The Shawshank Redemption', 'The Godfather', 'The Dark Knight', 'The Godfather Part II', '12 Angry Men', \"Schindler's List\", 'The Lord of the Rings: The Return of the King', 'Pulp Fiction', 'The Lord of the Rings: The Fellowship of the Ring', 'The Good, the Bad and the Ugly', 'Forrest Gump', 'Fight Club', 'The Lord of the Rings: The Two Towers', 'Inception', 'Star Wars: Episode V - The Empire Strikes Back', 'The Matrix', 'Goodfellas', \"One Flew Over the Cuckoo's Nest\", 'Se7en', \"It's a Wonderful Life\", 'Seven Samurai', 'The Silence of the Lambs', 'Saving Private Ryan', 'City of God', 'Interstellar', 'Life Is Beautiful', 'The Green Mile', 'Star Wars: Episode IV - A New Hope', 'Terminator 2: Judgment Day', 'Back to the Future', 'Spirited Away', 'The Pianist', 'Psycho', 'Parasite', 'Léon: The Professional', 'Gladiator', 'The Lion King', 'American History X', 'The Departed', 'Whiplash', 'The Prestige', 'The Usual Suspects', 'Casablanca', 'Grave of the Fireflies', 'Harakiri', 'The Intouchables', 'Modern Times', 'Once Upon a Time in the West', 'Cinema Paradiso', 'Rear Window', 'Alien', 'City Lights', 'Apocalypse Now', 'Memento', 'Django Unchained', 'Indiana Jones and the Raiders of the Lost Ark', 'WALL·E', 'The Lives of Others', 'Sunset Blvd.', 'Paths of Glory', 'The Shining', 'The Great Dictator', 'Avengers: Infinity War', 'Witness for the Prosecution', 'Aliens', 'Spider-Man: Into the Spider-Verse', 'American Beauty', 'Dr. Strangelove or: How I Learned to Stop Worrying and Love the Bomb', 'The Dark Knight Rises', 'Inglourious Basterds', 'Oldboy', 'Amadeus', 'Coco', 'Toy Story', 'Braveheart', 'Joker', 'Das Boot', 'Avengers: Endgame', 'Princess Mononoke', 'Good Will Hunting', 'Once Upon a Time in America', 'Your Name.', \"Singin' in the Rain\", '3 Idiots', 'Requiem for a Dream', 'High and Low', 'Toy Story 3', 'Capernaum', 'Star Wars: Episode VI - Return of the Jedi', '2001: A Space Odyssey', 'Eternal Sunshine of the Spotless Mind', 'Come and See', 'The Hunt', 'Reservoir Dogs', 'Lawrence of Arabia', 'Citizen Kane', 'M', 'Ikiru', 'North by Northwest', 'The Apartment', 'Vertigo', 'Amélie', 'Double Indemnity', 'A Clockwork Orange', 'Full Metal Jacket', 'Scarface', 'Incendies', 'Heat', 'Hamilton', 'Up', 'To Kill a Mockingbird', 'The Sting', 'A Separation', 'Metropolis', 'Die Hard', 'L.A. Confidential', 'Indiana Jones and the Last Crusade', 'Taxi Driver', 'Snatch', 'Bicycle Thieves', 'Like Stars on Earth', '1917', 'Top Gun: Maverick', 'Downfall', 'Dangal', 'For a Few Dollars More', 'Batman Begins', 'The Kid', 'Some Like It Hot', 'The Father', 'The Wolf of Wall Street', 'All About Eve', 'Green Book', 'Judgment at Nuremberg', 'Ran', 'Casino', 'The Truman Show', 'There Will Be Blood', \"Pan's Labyrinth\", 'Unforgiven', 'Shutter Island', 'The Sixth Sense', 'Jurassic Park', 'A Beautiful Mind', 'Yojimbo', 'The Treasure of the Sierra Madre', 'Monty Python and the Holy Grail', 'Guardians of the Galaxy Vol. 3', 'No Country for Old Men', 'Kill Bill: Vol. 1', 'The Great Escape', 'Rashomon', 'The Thing', 'Finding Nemo', 'Spider-Man: No Way Home', 'The Elephant Man', 'Chinatown', 'V for Vendetta', 'Raging Bull', 'Gone with the Wind', 'Dial M for Murder', 'Lock, Stock and Two Smoking Barrels', 'Inside Out', \"Howl's Moving Castle\", 'The Secret in Their Eyes', 'Three Billboards Outside Ebbing, Missouri', 'Trainspotting', 'The Bridge on the River Kwai', 'Prisoners', 'Fargo', 'Warrior', 'Gran Torino', 'Catch Me If You Can', 'My Neighbor Totoro', 'Million Dollar Baby', 'Children of Heaven', 'Blade Runner', 'The Gold Rush', 'Klaus', 'Harry Potter and the Deathly Hallows: Part 2', 'Before Sunrise', '12 Years a Slave', 'Ben-Hur', 'The Grand Budapest Hotel', 'On the Waterfront', 'Gone Girl', 'The General', 'Barry Lyndon', 'Wild Strawberries', 'In the Name of the Father', 'The Deer Hunter', 'Hacksaw Ridge', 'The Third Man', 'The Wages of Fear', 'Memories of Murder', 'Sherlock Jr.', 'Wild Tales', 'Mr. Smith Goes to Washington', 'Mad Max: Fury Road', 'Mary and Max', 'Dead Poets Society', 'How to Train Your Dragon', 'Monsters, Inc.', 'The Seventh Seal', 'Jaws', 'Room', 'The Big Lebowski', 'John Wick: Chapter 4', 'Tokyo Story', 'Ford v Ferrari', 'The Passion of Joan of Arc', 'Hotel Rwanda', 'Rocky', 'Ratatouille', 'Platoon', 'Logan', 'Spotlight', 'The Terminator', 'Stand by Me', 'Rush', 'Network', 'Before Sunset', 'The Wizard of Oz', 'Into the Wild', 'The Best Years of Our Lives', 'The Exorcist', 'Groundhog Day', 'The Incredibles', 'La haine', 'To Be or Not to Be', 'Pirates of the Caribbean: The Curse of the Black Pearl', \"Hachi: A Dog's Tale\", 'The Grapes of Wrath', 'The Battle of Algiers', 'Pather Panchali', 'Jai Bhim', 'Amores Perros', 'My Father and My Son', 'The Handmaiden', 'Rebecca', 'Cool Hand Luke', 'The Sound of Music', 'The 400 Blows', 'It Happened One Night', 'Persona', 'Life of Brian', 'The Iron Giant', 'The Help', 'Aladdin', 'Dances with Wolves']\n"
     ]
    }
   ],
   "source": [
    "from bs4 import BeautifulSoup\n",
    "\n",
    "soup = BeautifulSoup(response.text)\n",
    "titles = [e.text.strip() for e in soup.select(\".titleColumn a\")]\n",
    "print(titles)"
   ]
  },
  {
   "cell_type": "code",
   "execution_count": 5,
   "metadata": {
    "slideshow": {
     "slide_type": "subslide"
    }
   },
   "outputs": [
    {
     "name": "stdout",
     "output_type": "stream",
     "text": [
      "200\n"
     ]
    }
   ],
   "source": [
    "# requests.post()\n",
    "request_url = \"https://mops.twse.com.tw/mops/web/ajax_t05st10_ifrs\"\n",
    "form_data = {\n",
    "    \"encodeURIComponent\": \"1\",\n",
    "    \"step\": \"1\",\n",
    "    \"firstin\": \"1\",\n",
    "    \"off\": \"1\",\n",
    "    \"queryName\": \"co_id\",\n",
    "    \"inpuType\": \"co_id\",\n",
    "    \"TYPEK\": \"all\",\n",
    "    \"isnew\": \"true\",\n",
    "    \"co_id\": \"2330\",\n",
    "    \"year\": \"112\",\n",
    "    \"month\": \"04\"\n",
    "}\n",
    "response = requests.post(request_url, data=form_data)\n",
    "print(response.status_code)"
   ]
  },
  {
   "cell_type": "code",
   "execution_count": 6,
   "metadata": {
    "slideshow": {
     "slide_type": "subslide"
    }
   },
   "outputs": [
    {
     "name": "stdout",
     "output_type": "stream",
     "text": [
      "['147,899,735', '-24,661,647', '656,532,708', '-7,104,547']\n",
      "['172,561,382', '-14.29', '663,637,255', '-1.07', '無。']\n"
     ]
    }
   ],
   "source": [
    "soup = BeautifulSoup(response.text)\n",
    "odd_rows = [e.text.strip() for e in soup.select(\".odd\")]\n",
    "even_rows = [e.text.strip() for e in soup.select(\".even\")]\n",
    "print(odd_rows)\n",
    "print(even_rows)"
   ]
  },
  {
   "cell_type": "markdown",
   "metadata": {
    "slideshow": {
     "slide_type": "slide"
    }
   },
   "source": [
    "## A Glimpse on NumPy"
   ]
  },
  {
   "cell_type": "markdown",
   "metadata": {
    "slideshow": {
     "slide_type": "subslide"
    }
   },
   "source": [
    "## What is NumPy?\n",
    "\n",
    "> NumPy, as in numerical Python is the fundamental package for scientific computing in Python. It is a Python library that provides a multidimensional array object and an assortment of routines for fast operations on arrays, including mathematical, logical, shape manipulation, sorting, selecting, I/O, discrete Fourier transforms, basic linear algebra, basic statistical operations, random simulation and much more.\n",
    "\n",
    "Source: <https://numpy.org/>"
   ]
  },
  {
   "cell_type": "markdown",
   "metadata": {
    "slideshow": {
     "slide_type": "subslide"
    }
   },
   "source": [
    "## Two Python array packages existed before NumPy\n",
    "\n",
    "- The `Numeric` package was developed in the mid-1990s.\n",
    "- The `Numarray` package was a reimplementation of `Numeric`.\n",
    "- `NumPy` emerged as a best of both combining the features of `Numarray` and `Numeric` in 2005.\n",
    "\n",
    "Source: <https://www.nature.com/articles/s41586-020-2649-2>"
   ]
  },
  {
   "cell_type": "markdown",
   "metadata": {
    "slideshow": {
     "slide_type": "subslide"
    }
   },
   "source": [
    "## NumPy is officially aliased as `np`"
   ]
  },
  {
   "cell_type": "code",
   "execution_count": 7,
   "metadata": {},
   "outputs": [],
   "source": [
    "import numpy as np"
   ]
  },
  {
   "cell_type": "markdown",
   "metadata": {
    "slideshow": {
     "slide_type": "subslide"
    }
   },
   "source": [
    "## Why NumPy?\n",
    "\n",
    "- Built-in data structures come with great flexibility that is able to contain heterogeneous data types.\n",
    "- To allow these flexible types, each item in the structure must contain its own type info, reference count.\n",
    "- Fixed-type arrays lack this flexibility, but are much more efficient for storing and manipulating data."
   ]
  },
  {
   "cell_type": "markdown",
   "metadata": {
    "slideshow": {
     "slide_type": "subslide"
    }
   },
   "source": [
    "## A heterogenous `list`"
   ]
  },
  {
   "cell_type": "code",
   "execution_count": 8,
   "metadata": {},
   "outputs": [
    {
     "name": "stdout",
     "output_type": "stream",
     "text": [
      "<class 'list'>\n",
      "<class 'bool'>\n",
      "<class 'bool'>\n",
      "<class 'int'>\n",
      "<class 'float'>\n",
      "<class 'str'>\n"
     ]
    }
   ],
   "source": [
    "heterogeneous_list = [False, True, 5566, 55.66, '5566']\n",
    "print(type(heterogeneous_list))\n",
    "for i in heterogeneous_list:\n",
    "    print(type(i))"
   ]
  },
  {
   "cell_type": "markdown",
   "metadata": {
    "slideshow": {
     "slide_type": "subslide"
    }
   },
   "source": [
    "## A homogeneous `ndarray`"
   ]
  },
  {
   "cell_type": "code",
   "execution_count": 9,
   "metadata": {},
   "outputs": [
    {
     "name": "stdout",
     "output_type": "stream",
     "text": [
      "<class 'numpy.ndarray'>\n",
      "<class 'numpy.str_'>\n",
      "<class 'numpy.str_'>\n",
      "<class 'numpy.str_'>\n",
      "<class 'numpy.str_'>\n",
      "<class 'numpy.str_'>\n"
     ]
    }
   ],
   "source": [
    "homogeneous_arr = np.array(heterogeneous_list)\n",
    "print(type(homogeneous_arr))\n",
    "for i in homogeneous_arr:\n",
    "    print(type(i))"
   ]
  },
  {
   "cell_type": "markdown",
   "metadata": {
    "slideshow": {
     "slide_type": "subslide"
    }
   },
   "source": [
    "## The advantage of fix typed arrays\n",
    "\n",
    "More efficient for storing and manipulating data."
   ]
  },
  {
   "cell_type": "code",
   "execution_count": 10,
   "metadata": {
    "slideshow": {
     "slide_type": "-"
    }
   },
   "outputs": [
    {
     "name": "stdout",
     "output_type": "stream",
     "text": [
      "<class 'list'>\n",
      "<class 'numpy.ndarray'>\n"
     ]
    }
   ],
   "source": [
    "m = 1000000\n",
    "large_array = np.random.randint(1, 100, size=m)\n",
    "large_list = list(large_array)\n",
    "print(type(large_list))\n",
    "print(type(large_array))"
   ]
  },
  {
   "cell_type": "code",
   "execution_count": 11,
   "metadata": {
    "slideshow": {
     "slide_type": "subslide"
    }
   },
   "outputs": [
    {
     "name": "stdout",
     "output_type": "stream",
     "text": [
      "Computing time for 1,000,000 repicprocals: 0.15 seconds.\n"
     ]
    }
   ],
   "source": [
    "import time\n",
    "\n",
    "# Computing reciprocals for large list\n",
    "start_time = time.time()\n",
    "reciprocals = [1 / i for i in large_list]\n",
    "end_time = time.time()\n",
    "computing_time = end_time - start_time\n",
    "print(f\"Computing time for {m:,} repicprocals: {computing_time:.2f} seconds.\")"
   ]
  },
  {
   "cell_type": "code",
   "execution_count": 12,
   "metadata": {
    "slideshow": {
     "slide_type": "subslide"
    }
   },
   "outputs": [
    {
     "name": "stdout",
     "output_type": "stream",
     "text": [
      "Computing time for 1,000,000 repicprocals: 0.03 seconds.\n"
     ]
    }
   ],
   "source": [
    "# Computing for large array\n",
    "start_time = time.time()\n",
    "reciprocals = 1 / large_array\n",
    "end_time = time.time()\n",
    "computing_time = end_time - start_time\n",
    "print(f\"Computing time for {m:,} repicprocals: {computing_time:.2f} seconds.\")"
   ]
  },
  {
   "cell_type": "markdown",
   "metadata": {
    "slideshow": {
     "slide_type": "subslide"
    }
   },
   "source": [
    "## Key functionalities we rely on NumPy:\n",
    "\n",
    "- Array manipulations\n",
    "- Universal/aggregate functions"
   ]
  },
  {
   "cell_type": "markdown",
   "metadata": {
    "slideshow": {
     "slide_type": "subslide"
    }
   },
   "source": [
    "## Different nicknames vs. different number of dimensions\n",
    "\n",
    "- Scalar: 0-dimension\n",
    "- Vector: 1-dimension\n",
    "- Matrix: 2-dimension\n",
    "- Tensor: 3-dimension or more"
   ]
  },
  {
   "cell_type": "markdown",
   "metadata": {
    "slideshow": {
     "slide_type": "subslide"
    }
   },
   "source": [
    "## Scalar, vector, matrix, and tensor\n",
    "\n",
    "![Imgur](https://i.imgur.com/81fM6Hf.png)\n",
    "\n",
    "Source: <https://dev.to/juancarlospaco/tensors-for-busy-people-315k>"
   ]
  },
  {
   "cell_type": "code",
   "execution_count": 13,
   "metadata": {
    "slideshow": {
     "slide_type": "subslide"
    }
   },
   "outputs": [
    {
     "name": "stdout",
     "output_type": "stream",
     "text": [
      "5566\n",
      "0\n",
      "()\n"
     ]
    }
   ],
   "source": [
    "scalar = np.array(5566)\n",
    "print(scalar)\n",
    "print(scalar.ndim)\n",
    "print(scalar.shape)"
   ]
  },
  {
   "cell_type": "code",
   "execution_count": 14,
   "metadata": {
    "slideshow": {
     "slide_type": "subslide"
    }
   },
   "outputs": [
    {
     "name": "stdout",
     "output_type": "stream",
     "text": [
      "[5566]\n",
      "1\n",
      "(1,)\n"
     ]
    }
   ],
   "source": [
    "vector = np.array([5566])\n",
    "print(vector)\n",
    "print(vector.ndim)\n",
    "print(vector.shape)"
   ]
  },
  {
   "cell_type": "code",
   "execution_count": 15,
   "metadata": {
    "slideshow": {
     "slide_type": "subslide"
    }
   },
   "outputs": [
    {
     "name": "stdout",
     "output_type": "stream",
     "text": [
      "[[5 5]\n",
      " [6 6]]\n",
      "2\n",
      "(2, 2)\n"
     ]
    }
   ],
   "source": [
    "matrix = np.array([[5, 5],\n",
    "                   [6, 6]])\n",
    "print(matrix)\n",
    "print(matrix.ndim)\n",
    "print(matrix.shape)"
   ]
  },
  {
   "cell_type": "code",
   "execution_count": 16,
   "metadata": {
    "slideshow": {
     "slide_type": "subslide"
    }
   },
   "outputs": [
    {
     "name": "stdout",
     "output_type": "stream",
     "text": [
      "[[[5 5]\n",
      "  [6 6]]\n",
      "\n",
      " [[5 5]\n",
      "  [6 6]]\n",
      "\n",
      " [[5 5]\n",
      "  [6 6]]]\n",
      "3\n",
      "(3, 2, 2)\n"
     ]
    }
   ],
   "source": [
    "tensor = np.array([[[5, 5],\n",
    "                    [6, 6]],\n",
    "                   [[5, 5],\n",
    "                    [6, 6]],\n",
    "                   [[5, 5],\n",
    "                    [6, 6]]])\n",
    "print(tensor)\n",
    "print(tensor.ndim)\n",
    "print(tensor.shape)"
   ]
  },
  {
   "cell_type": "markdown",
   "metadata": {
    "slideshow": {
     "slide_type": "slide"
    }
   },
   "source": [
    "## A Glimpse on Matplotlib"
   ]
  },
  {
   "cell_type": "markdown",
   "metadata": {
    "slideshow": {
     "slide_type": "subslide"
    }
   },
   "source": [
    "## What is `matplotlib`?\n",
    "\n",
    "> Matplotlib, short for matlab plotting library is a comprehensive library for creating static, animated, and interactive visualizations in Python.\n",
    "\n",
    "Source: <https://matplotlib.org/>"
   ]
  },
  {
   "cell_type": "code",
   "execution_count": 17,
   "metadata": {},
   "outputs": [],
   "source": [
    "import matplotlib.pyplot as plt"
   ]
  },
  {
   "cell_type": "markdown",
   "metadata": {
    "slideshow": {
     "slide_type": "subslide"
    }
   },
   "source": [
    "## Why visualization?\n",
    "\n",
    "> Visualization plays a vital role among exploratory data analysis. Sometimes it is extremely difficult for human to understand raw data, functions, or formulas."
   ]
  },
  {
   "cell_type": "markdown",
   "metadata": {
    "slideshow": {
     "slide_type": "subslide"
    }
   },
   "source": [
    "## The abstractness of raw data"
   ]
  },
  {
   "cell_type": "code",
   "execution_count": 18,
   "metadata": {},
   "outputs": [
    {
     "data": {
      "text/plain": [
       "array([ 0.8805746 , -0.7357821 , -0.5163086 , ...,  0.37827933,\n",
       "       -0.90090035,  1.28615113])"
      ]
     },
     "execution_count": 18,
     "metadata": {},
     "output_type": "execute_result"
    }
   ],
   "source": [
    "arr = np.random.normal(size=10000)\n",
    "arr"
   ]
  },
  {
   "cell_type": "markdown",
   "metadata": {
    "slideshow": {
     "slide_type": "subslide"
    }
   },
   "source": [
    "## The abstractness of functions\n",
    "\n",
    "\\begin{equation}\n",
    "J(p) = -y_{true}log(p)-(1-y_{true})log(1-p)\n",
    "\\end{equation}"
   ]
  },
  {
   "cell_type": "markdown",
   "metadata": {
    "slideshow": {
     "slide_type": "subslide"
    }
   },
   "source": [
    "## The abstractness of functions\n",
    "\n",
    "\\begin{equation}\n",
    "f(x) = \\frac{1}{1 + e^{-x}}\n",
    "\\end{equation}"
   ]
  },
  {
   "cell_type": "markdown",
   "metadata": {
    "slideshow": {
     "slide_type": "subslide"
    }
   },
   "source": [
    "## The concreteness of visualization for raw data"
   ]
  },
  {
   "cell_type": "code",
   "execution_count": 19,
   "metadata": {},
   "outputs": [
    {
     "data": {
      "image/png": "[encoded data removed]",
      "text/plain": [
       "<Figure size 640x480 with 1 Axes>"
      ]
     },
     "metadata": {},
     "output_type": "display_data"
    }
   ],
   "source": [
    "fig = plt.figure()\n",
    "ax = plt.axes()\n",
    "ax.hist(arr, bins=50)\n",
    "plt.show()"
   ]
  },
  {
   "cell_type": "markdown",
   "metadata": {
    "slideshow": {
     "slide_type": "subslide"
    }
   },
   "source": [
    "## The concreteness of visualization for functions"
   ]
  },
  {
   "cell_type": "code",
   "execution_count": 20,
   "metadata": {},
   "outputs": [],
   "source": [
    "eps = 1e-06 # epsilon, a tiny number to avoid infinity\n",
    "p = np.linspace(0 + eps, 1 - eps, 10000)\n",
    "log_loss_0 = -np.log(1-p)\n",
    "log_loss_1 = -np.log(p)"
   ]
  },
  {
   "cell_type": "code",
   "execution_count": 21,
   "metadata": {
    "slideshow": {
     "slide_type": "subslide"
    }
   },
   "outputs": [
    {
     "data": {
      "image/png": "[encoded data removed]",
      "text/plain": [
       "<Figure size 640x480 with 1 Axes>"
      ]
     },
     "metadata": {},
     "output_type": "display_data"
    }
   ],
   "source": [
    "fig = plt.figure()\n",
    "ax = plt.axes()\n",
    "ax.plot(p, log_loss_0, label='$y_{true}=0, -log(1-p)$')\n",
    "ax.plot(p, log_loss_1, label='$y_{true}=1, -log(p)$')\n",
    "ax.legend()\n",
    "plt.show()"
   ]
  },
  {
   "cell_type": "markdown",
   "metadata": {
    "slideshow": {
     "slide_type": "subslide"
    }
   },
   "source": [
    "## The concreteness of visualization for functions"
   ]
  },
  {
   "cell_type": "code",
   "execution_count": 22,
   "metadata": {
    "slideshow": {
     "slide_type": "-"
    }
   },
   "outputs": [
    {
     "data": {
      "image/png": "[encoded data removed]",
      "text/plain": [
       "<Figure size 640x480 with 1 Axes>"
      ]
     },
     "metadata": {},
     "output_type": "display_data"
    }
   ],
   "source": [
    "x = np.linspace(-10, 10, 100)\n",
    "fx = 1 / (1 + np.exp(-x))\n",
    "fig = plt.figure()\n",
    "ax = plt.axes()\n",
    "ax.plot(x, fx)\n",
    "plt.show()"
   ]
  },
  {
   "cell_type": "markdown",
   "metadata": {
    "slideshow": {
     "slide_type": "subslide"
    }
   },
   "source": [
    "## The classic visualizations of all time\n",
    "\n",
    "- [Charles Minard's map of Napoleon's disastrous Russian campaign of 1812](https://en.wikipedia.org/wiki/Charles_Joseph_Minard#/media/File:Minard.png).\n",
    "- [Hans Rosling's 200 Countries, 200 Years, 4 Minutes](https://youtu.be/jbkSRLYSojo)."
   ]
  },
  {
   "cell_type": "markdown",
   "metadata": {
    "slideshow": {
     "slide_type": "subslide"
    }
   },
   "source": [
    "## Characteristics of a good visualization\n",
    "\n",
    "- Informative.\n",
    "- Simple.\n",
    "- Pretty."
   ]
  },
  {
   "cell_type": "markdown",
   "metadata": {
    "slideshow": {
     "slide_type": "slide"
    }
   },
   "source": [
    "## Two ways to plot"
   ]
  },
  {
   "cell_type": "markdown",
   "metadata": {
    "slideshow": {
     "slide_type": "subslide"
    }
   },
   "source": [
    "## The most challenging part for matplotlib newbies is its various plotting syntaxes"
   ]
  },
  {
   "cell_type": "markdown",
   "metadata": {
    "slideshow": {
     "slide_type": "subslide"
    }
   },
   "source": [
    "## There are 2 plotting syntaxes to adapt\n",
    "\n",
    "- Matlab style.\n",
    "- Object-oriented style."
   ]
  },
  {
   "cell_type": "markdown",
   "metadata": {
    "slideshow": {
     "slide_type": "subslide"
    }
   },
   "source": [
    "## Plotting with matlab style: stateful interface"
   ]
  },
  {
   "cell_type": "code",
   "execution_count": 23,
   "metadata": {},
   "outputs": [
    {
     "data": {
      "image/png": "[encoded data removed]",
      "text/plain": [
       "<Figure size 640x480 with 2 Axes>"
      ]
     },
     "metadata": {},
     "output_type": "display_data"
    }
   ],
   "source": [
    "x1 = np.linspace(0, np.pi*2, 100)\n",
    "x2 = np.linspace(np.pi * 0.5, np.pi*2.5, 100)\n",
    "plt.figure()\n",
    "plt.subplot(2, 1, 1)\n",
    "plt.plot(x1, np.sin(x1))\n",
    "plt.subplot(2, 1, 2)\n",
    "plt.plot(x2, np.cos(x2))\n",
    "plt.show()"
   ]
  },
  {
   "cell_type": "markdown",
   "metadata": {
    "slideshow": {
     "slide_type": "subslide"
    }
   },
   "source": [
    "## Plotting with object-oriented style: object method interface"
   ]
  },
  {
   "cell_type": "code",
   "execution_count": 24,
   "metadata": {},
   "outputs": [
    {
     "data": {
      "image/png": "[encoded data removed]",
      "text/plain": [
       "<Figure size 640x480 with 2 Axes>"
      ]
     },
     "metadata": {},
     "output_type": "display_data"
    }
   ],
   "source": [
    "fig, axes = plt.subplots(2, 1)\n",
    "axes[0].plot(x1, np.sin(x1))\n",
    "axes[1].plot(x2, np.cos(x2))\n",
    "plt.show()"
   ]
  },
  {
   "cell_type": "markdown",
   "metadata": {
    "slideshow": {
     "slide_type": "subslide"
    }
   },
   "source": [
    "## We will adapt the object-oriented style."
   ]
  },
  {
   "cell_type": "markdown",
   "metadata": {
    "slideshow": {
     "slide_type": "slide"
    }
   },
   "source": [
    "## A Glimpse on Pandas"
   ]
  },
  {
   "cell_type": "markdown",
   "metadata": {
    "slideshow": {
     "slide_type": "subslide"
    }
   },
   "source": [
    "## What is `pandas`?\n",
    "\n",
    "> Flexible and powerful data analysis / manipulation library for Python, providing labeled data structures similar to R data.frame objects, statistical functions, and much more.\n",
    "\n",
    "Source: <https://github.com/pandas-dev/pandas>"
   ]
  },
  {
   "cell_type": "markdown",
   "metadata": {
    "slideshow": {
     "slide_type": "subslide"
    }
   },
   "source": [
    "## Why `pandas`?\n",
    "\n",
    "Python used to have a weak spot in its analysis capability due to it did not have an appropriate structure handling the common tabular datasets. Pythonists had to switch to a more data-centric language like R or Matlab during the analysis stage until the presence of `pandas`."
   ]
  },
  {
   "cell_type": "markdown",
   "metadata": {
    "slideshow": {
     "slide_type": "subslide"
    }
   },
   "source": [
    "## Pandas is officially aliased as `pd`"
   ]
  },
  {
   "cell_type": "code",
   "execution_count": 25,
   "metadata": {},
   "outputs": [],
   "source": [
    "import pandas as pd"
   ]
  },
  {
   "cell_type": "markdown",
   "metadata": {
    "slideshow": {
     "slide_type": "subslide"
    }
   },
   "source": [
    "## What does `pandas` mean?\n",
    "\n",
    "![](https://media.giphy.com/media/46Zj6ze2Z2t4k/giphy.gif)\n",
    "\n",
    "Source: <https://giphy.com/>"
   ]
  },
  {
   "cell_type": "markdown",
   "metadata": {
    "slideshow": {
     "slide_type": "subslide"
    }
   },
   "source": [
    "## Turns out its naming has nothing to do with panda the animal, it refers to three primary class customed by its author [Wes McKinney](https://wesmckinney.com/)\n",
    "\n",
    "- **Pan**el(Deprecated since version 0.20.0)\n",
    "- **Da**taFrame\n",
    "- **S**eries"
   ]
  },
  {
   "cell_type": "markdown",
   "metadata": {
    "slideshow": {
     "slide_type": "subslide"
    }
   },
   "source": [
    "## In order to master `pandas`, it is vital to understand the relationships between `Index`, `ndarray`, `Series`, and `DataFrame`\n",
    "\n",
    "- An `Index` and a `ndarray` assembles a `Series`.\n",
    "- A couple of `Series` that sharing the same `Index` can then form a `DataFrame`."
   ]
  },
  {
   "cell_type": "markdown",
   "metadata": {
    "slideshow": {
     "slide_type": "subslide"
    }
   },
   "source": [
    "## `Index` from Pandas\n",
    "\n",
    "The simplest way to create an `Index` is using `pd.Index()`."
   ]
  },
  {
   "cell_type": "code",
   "execution_count": 26,
   "metadata": {},
   "outputs": [
    {
     "data": {
      "text/plain": [
       "pandas.core.indexes.base.Index"
      ]
     },
     "execution_count": 26,
     "metadata": {},
     "output_type": "execute_result"
    }
   ],
   "source": [
    "prime_indices = pd.Index([2, 3, 5, 7, 11, 13, 17, 19, 23, 29])\n",
    "type(prime_indices)"
   ]
  },
  {
   "cell_type": "markdown",
   "metadata": {
    "slideshow": {
     "slide_type": "subslide"
    }
   },
   "source": [
    "## An `Index` is like a combination of `tuple` and `set`"
   ]
  },
  {
   "cell_type": "code",
   "execution_count": 27,
   "metadata": {},
   "outputs": [
    {
     "name": "stdout",
     "output_type": "stream",
     "text": [
      "Index does not support mutable operations\n"
     ]
    }
   ],
   "source": [
    "# immutable\n",
    "prime_indices = pd.Index([2, 3, 5, 7, 11, 13, 17, 19, 23, 29])\n",
    "try:\n",
    "    prime_indices[-1] = 31\n",
    "except TypeError as e:\n",
    "    print(e)"
   ]
  },
  {
   "cell_type": "code",
   "execution_count": 28,
   "metadata": {
    "slideshow": {
     "slide_type": "subslide"
    }
   },
   "outputs": [
    {
     "name": "stdout",
     "output_type": "stream",
     "text": [
      "Index([3, 5, 7, 11, 13, 17, 19, 23, 29], dtype='int64')\n",
      "Index([1, 2, 3, 5, 7, 9, 11, 13, 15, 17, 19, 21, 23, 25, 27, 29], dtype='int64')\n",
      "Index([1, 2, 9, 15, 21, 25, 27], dtype='int64')\n",
      "Index([2], dtype='int64')\n",
      "Index([1, 9, 15, 21, 25, 27], dtype='int64')\n"
     ]
    }
   ],
   "source": [
    "# Index has the characteristics of a set\n",
    "odd_indices = pd.Index(range(1, 30, 2))\n",
    "print(prime_indices.intersection(odd_indices))         # prime_indices & odd_indices\n",
    "print(prime_indices.union(odd_indices))                # prime_indices | odd_indices\n",
    "print(prime_indices.symmetric_difference(odd_indices)) # prime_indices ^ odd_indices\n",
    "print(prime_indices.difference(odd_indices))\n",
    "print(odd_indices.difference(prime_indices))"
   ]
  },
  {
   "cell_type": "markdown",
   "metadata": {
    "slideshow": {
     "slide_type": "subslide"
    }
   },
   "source": [
    "## `Series` from Pandas\n",
    "\n",
    "The simplest way to create a `Series` is using `pd.Series()`."
   ]
  },
  {
   "cell_type": "code",
   "execution_count": 29,
   "metadata": {},
   "outputs": [
    {
     "name": "stdout",
     "output_type": "stream",
     "text": [
      "<class 'pandas.core.series.Series'>\n",
      "0     2\n",
      "1     3\n",
      "2     5\n",
      "3     7\n",
      "4    11\n",
      "5    13\n",
      "6    17\n",
      "7    19\n",
      "8    23\n",
      "9    29\n",
      "dtype: int64\n"
     ]
    }
   ],
   "source": [
    "prime_series = pd.Series([2, 3, 5, 7, 11, 13, 17, 19, 23, 29])\n",
    "print(type(prime_series))\n",
    "print(prime_series)"
   ]
  },
  {
   "cell_type": "markdown",
   "metadata": {
    "slideshow": {
     "slide_type": "subslide"
    }
   },
   "source": [
    "## A `Series` is a combination of `Index` and `ndarray`"
   ]
  },
  {
   "cell_type": "code",
   "execution_count": 30,
   "metadata": {},
   "outputs": [
    {
     "name": "stdout",
     "output_type": "stream",
     "text": [
      "<class 'pandas.core.indexes.range.RangeIndex'>\n",
      "<class 'numpy.ndarray'>\n"
     ]
    }
   ],
   "source": [
    "print(type(prime_series.index))\n",
    "print(type(prime_series.values))"
   ]
  },
  {
   "cell_type": "markdown",
   "metadata": {
    "slideshow": {
     "slide_type": "subslide"
    }
   },
   "source": [
    "## `DataFrame` from Pandas\n",
    "\n",
    "The simplest way to create a `DataFrame` is using `pd.DataFrame()`."
   ]
  },
  {
   "cell_type": "code",
   "execution_count": 31,
   "metadata": {},
   "outputs": [],
   "source": [
    "request_url = \"https://www.imdb.com/chart/top\"\n",
    "request_headers = {\n",
    "    \"accept-language\": \"en-US,en;q=1.0\"\n",
    "}\n",
    "response = requests.get(request_url, headers=request_headers)\n",
    "soup = BeautifulSoup(response.text)\n",
    "titles = [e.text.strip() for e in soup.select(\".titleColumn a\")]\n",
    "years = [int(e.text.replace(\"(\", \"\").replace(\")\", \"\")) for e in soup.select(\".secondaryInfo\")]\n",
    "ratings = [float(e.text) for e in soup.select(\"strong\")]"
   ]
  },
  {
   "cell_type": "code",
   "execution_count": 32,
   "metadata": {
    "slideshow": {
     "slide_type": "subslide"
    }
   },
   "outputs": [
    {
     "data": {
      "text/html": [
       "<div>\n",
       "<style scoped>\n",
       "    .dataframe tbody tr th:only-of-type {\n",
       "        vertical-align: middle;\n",
       "    }\n",
       "\n",
       "    .dataframe tbody tr th {\n",
       "        vertical-align: top;\n",
       "    }\n",
       "\n",
       "    .dataframe thead th {\n",
       "        text-align: right;\n",
       "    }\n",
       "</style>\n",
       "<table border=\"1\" class=\"dataframe\">\n",
       "  <thead>\n",
       "    <tr style=\"text-align: right;\">\n",
       "      <th></th>\n",
       "      <th>title</th>\n",
       "      <th>year</th>\n",
       "      <th>rating</th>\n",
       "    </tr>\n",
       "  </thead>\n",
       "  <tbody>\n",
       "    <tr>\n",
       "      <th>0</th>\n",
       "      <td>The Shawshank Redemption</td>\n",
       "      <td>1994</td>\n",
       "      <td>9.2</td>\n",
       "    </tr>\n",
       "    <tr>\n",
       "      <th>1</th>\n",
       "      <td>The Godfather</td>\n",
       "      <td>1972</td>\n",
       "      <td>9.2</td>\n",
       "    </tr>\n",
       "    <tr>\n",
       "      <th>2</th>\n",
       "      <td>The Dark Knight</td>\n",
       "      <td>2008</td>\n",
       "      <td>9.0</td>\n",
       "    </tr>\n",
       "    <tr>\n",
       "      <th>3</th>\n",
       "      <td>The Godfather Part II</td>\n",
       "      <td>1974</td>\n",
       "      <td>9.0</td>\n",
       "    </tr>\n",
       "    <tr>\n",
       "      <th>4</th>\n",
       "      <td>12 Angry Men</td>\n",
       "      <td>1957</td>\n",
       "      <td>9.0</td>\n",
       "    </tr>\n",
       "    <tr>\n",
       "      <th>...</th>\n",
       "      <td>...</td>\n",
       "      <td>...</td>\n",
       "      <td>...</td>\n",
       "    </tr>\n",
       "    <tr>\n",
       "      <th>245</th>\n",
       "      <td>Life of Brian</td>\n",
       "      <td>1979</td>\n",
       "      <td>8.0</td>\n",
       "    </tr>\n",
       "    <tr>\n",
       "      <th>246</th>\n",
       "      <td>The Iron Giant</td>\n",
       "      <td>1999</td>\n",
       "      <td>8.0</td>\n",
       "    </tr>\n",
       "    <tr>\n",
       "      <th>247</th>\n",
       "      <td>The Help</td>\n",
       "      <td>2011</td>\n",
       "      <td>8.0</td>\n",
       "    </tr>\n",
       "    <tr>\n",
       "      <th>248</th>\n",
       "      <td>Aladdin</td>\n",
       "      <td>1992</td>\n",
       "      <td>8.0</td>\n",
       "    </tr>\n",
       "    <tr>\n",
       "      <th>249</th>\n",
       "      <td>Dances with Wolves</td>\n",
       "      <td>1990</td>\n",
       "      <td>8.0</td>\n",
       "    </tr>\n",
       "  </tbody>\n",
       "</table>\n",
       "<p>250 rows × 3 columns</p>\n",
       "</div>"
      ],
      "text/plain": [
       "                        title  year  rating\n",
       "0    The Shawshank Redemption  1994     9.2\n",
       "1               The Godfather  1972     9.2\n",
       "2             The Dark Knight  2008     9.0\n",
       "3       The Godfather Part II  1974     9.0\n",
       "4                12 Angry Men  1957     9.0\n",
       "..                        ...   ...     ...\n",
       "245             Life of Brian  1979     8.0\n",
       "246            The Iron Giant  1999     8.0\n",
       "247                  The Help  2011     8.0\n",
       "248                   Aladdin  1992     8.0\n",
       "249        Dances with Wolves  1990     8.0\n",
       "\n",
       "[250 rows x 3 columns]"
      ]
     },
     "execution_count": 32,
     "metadata": {},
     "output_type": "execute_result"
    }
   ],
   "source": [
    "movie_df = pd.DataFrame()\n",
    "movie_df[\"title\"] = titles\n",
    "movie_df[\"year\"] = years\n",
    "movie_df[\"rating\"] = ratings\n",
    "movie_df"
   ]
  },
  {
   "cell_type": "markdown",
   "metadata": {
    "slideshow": {
     "slide_type": "subslide"
    }
   },
   "source": [
    "## A `DataFrame` is a combination of multiple `Series` sharing the same `Index`"
   ]
  },
  {
   "cell_type": "code",
   "execution_count": 33,
   "metadata": {},
   "outputs": [
    {
     "name": "stdout",
     "output_type": "stream",
     "text": [
      "<class 'pandas.core.indexes.range.RangeIndex'>\n",
      "<class 'pandas.core.series.Series'>\n",
      "<class 'pandas.core.series.Series'>\n"
     ]
    }
   ],
   "source": [
    "print(type(movie_df.index))\n",
    "print(type(movie_df[\"title\"]))\n",
    "print(type(movie_df[\"rating\"]))"
   ]
  },
  {
   "cell_type": "markdown",
   "metadata": {
    "slideshow": {
     "slide_type": "slide"
    }
   },
   "source": [
    "## A Glimpse on Scikit-Learn"
   ]
  },
  {
   "cell_type": "markdown",
   "metadata": {
    "slideshow": {
     "slide_type": "subslide"
    }
   },
   "source": [
    "## What is Scikit-Learn?\n",
    "\n",
    "> Scikit-learn is an open source machine learning library that supports supervised and unsupervised learning. It also provides various tools for model fitting, data preprocessing, model selection, model evaluation, and many other utilities.\n",
    "\n",
    "Source: <https://scikit-learn.org/stable/getting_started.html>"
   ]
  },
  {
   "cell_type": "markdown",
   "metadata": {
    "slideshow": {
     "slide_type": "subslide"
    }
   },
   "source": [
    "## Import with specific functions/classes\n",
    "\n",
    "```python\n",
    "from sklearn import FUNCTION/CLASS\n",
    "```\n",
    "\n",
    "Source: <https://scikit-learn.org/stable/getting_started.html>"
   ]
  },
  {
   "cell_type": "markdown",
   "metadata": {
    "slideshow": {
     "slide_type": "subslide"
    }
   },
   "source": [
    "## Why Scikit-Learn?\n",
    "\n",
    "- Clean, uniform, and streamlined API.\n",
    "- Useful and complete online documentation.\n",
    "- Uniform API:\n",
    "    - Consistency.\n",
    "    - Inspection.\n",
    "    - Limited object hierarchy.\n",
    "    - Composition.\n",
    "    - Sensible defaults."
   ]
  },
  {
   "cell_type": "code",
   "execution_count": 34,
   "metadata": {
    "slideshow": {
     "slide_type": "subslide"
    }
   },
   "outputs": [
    {
     "data": {
      "image/png": "[encoded data removed]",
      "text/plain": [
       "<Figure size 640x480 with 10 Axes>"
      ]
     },
     "metadata": {},
     "output_type": "display_data"
    }
   ],
   "source": [
    "from sklearn import datasets\n",
    "\n",
    "m = 10\n",
    "fig, axes = plt.subplots(1, m)\n",
    "digits = datasets.load_digits()\n",
    "for ax, image in zip(axes, digits.images):\n",
    "    ax.set_axis_off()\n",
    "    ax.imshow(image)"
   ]
  },
  {
   "cell_type": "code",
   "execution_count": 35,
   "metadata": {
    "slideshow": {
     "slide_type": "subslide"
    }
   },
   "outputs": [],
   "source": [
    "from sklearn import svm\n",
    "from sklearn.model_selection import train_test_split\n",
    "\n",
    "X = digits.images.reshape(1797, 64)\n",
    "y = digits.target\n",
    "X_train, X_valid, y_train, y_valid = train_test_split(X, y, test_size=0.33, random_state=42)\n",
    "clf = svm.SVC(gamma=0.001)\n",
    "clf.fit(X_train, y_train)\n",
    "y_hat = clf.predict(X_valid)"
   ]
  },
  {
   "cell_type": "code",
   "execution_count": 36,
   "metadata": {
    "slideshow": {
     "slide_type": "subslide"
    }
   },
   "outputs": [
    {
     "name": "stdout",
     "output_type": "stream",
     "text": [
      "6\n",
      "594\n",
      "0.010101010101010102\n"
     ]
    }
   ],
   "source": [
    "errors = np.sum(y_valid != y_hat).sum()\n",
    "print(errors)\n",
    "print(y_valid.size)\n",
    "print(errors / y_valid.size)"
   ]
  },
  {
   "cell_type": "markdown",
   "metadata": {
    "slideshow": {
     "slide_type": "slide"
    }
   },
   "source": [
    "## A Glimpse on TensorFlow Keras"
   ]
  },
  {
   "cell_type": "markdown",
   "metadata": {
    "slideshow": {
     "slide_type": "subslide"
    }
   },
   "source": [
    "## What is Tensorflow?\n",
    "\n",
    "- TensorFlow is a backend engine for machine learning and deep learning.\n",
    "- TensorFlow was released in 2015 by Google.\n",
    "- A backend engine defines tensor opearation, the derivative of cost functions, and optimization algorithms as classes or functions.\n",
    "- PyTorch, Theano, and Microsoft Cognitive Toolkit(CNTK) are other famous backend engines."
   ]
  },
  {
   "cell_type": "markdown",
   "metadata": {
    "slideshow": {
     "slide_type": "subslide"
    }
   },
   "source": [
    "## What is Tensorflow Keras?\n",
    "\n",
    "- Keras is a deep learning API written in Python, running on top of the machine learning platform TensorFlow. It was developed with a focus on enabling fast experimentation.\n",
    "- Keras was released in 2015 by François Chollet."
   ]
  },
  {
   "cell_type": "code",
   "execution_count": 37,
   "metadata": {},
   "outputs": [
    {
     "name": "stderr",
     "output_type": "stream",
     "text": [
      "2023-05-23 22:45:39.067201: I tensorflow/core/platform/cpu_feature_guard.cc:193] This TensorFlow binary is optimized with oneAPI Deep Neural Network Library (oneDNN) to use the following CPU instructions in performance-critical operations:  SSE4.1 SSE4.2 AVX AVX2 FMA\n",
      "To enable them in other operations, rebuild TensorFlow with the appropriate compiler flags.\n"
     ]
    }
   ],
   "source": [
    "from tensorflow import keras"
   ]
  },
  {
   "cell_type": "code",
   "execution_count": 38,
   "metadata": {
    "slideshow": {
     "slide_type": "subslide"
    }
   },
   "outputs": [
    {
     "data": {
      "image/png": "[encoded data removed]",
      "text/plain": [
       "<Figure size 640x480 with 10 Axes>"
      ]
     },
     "metadata": {},
     "output_type": "display_data"
    }
   ],
   "source": [
    "(x_train, y_train), (x_valid, y_valid) = keras.datasets.fashion_mnist.load_data()\n",
    "m = 10\n",
    "fig, axes = plt.subplots(1, m)\n",
    "for ax, image, label in zip(axes, x_train, y_train):\n",
    "    ax.set_axis_off()\n",
    "    ax.imshow(image)"
   ]
  },
  {
   "cell_type": "code",
   "execution_count": 39,
   "metadata": {
    "slideshow": {
     "slide_type": "subslide"
    }
   },
   "outputs": [],
   "source": [
    "fashion_mnist_labels = {\n",
    "    0: \"T-shirt/top\",  # index 0\n",
    "    1: \"Trouser\",      # index 1\n",
    "    2: \"Pullover\",     # index 2 \n",
    "    3: \"Dress\",        # index 3 \n",
    "    4: \"Coat\",         # index 4\n",
    "    5: \"Sandal\",       # index 5\n",
    "    6: \"Shirt\",        # index 6 \n",
    "    7: \"Sneaker\",      # index 7 \n",
    "    8: \"Bag\",          # index 8 \n",
    "    9: \"Ankle boot\"    # index 9\n",
    "}"
   ]
  },
  {
   "cell_type": "code",
   "execution_count": 40,
   "metadata": {
    "slideshow": {
     "slide_type": "subslide"
    }
   },
   "outputs": [
    {
     "name": "stdout",
     "output_type": "stream",
     "text": [
      "Model: \"sequential\"\n",
      "_________________________________________________________________\n",
      " Layer (type)                Output Shape              Param #   \n",
      "=================================================================\n",
      " conv2d (Conv2D)             (None, 26, 26, 32)        320       \n",
      "                                                                 \n",
      " max_pooling2d (MaxPooling2D  (None, 13, 13, 32)       0         \n",
      " )                                                               \n",
      "                                                                 \n",
      " conv2d_1 (Conv2D)           (None, 11, 11, 64)        18496     \n",
      "                                                                 \n",
      " max_pooling2d_1 (MaxPooling  (None, 5, 5, 64)         0         \n",
      " 2D)                                                             \n",
      "                                                                 \n",
      " flatten (Flatten)           (None, 1600)              0         \n",
      "                                                                 \n",
      " dropout (Dropout)           (None, 1600)              0         \n",
      "                                                                 \n",
      " dense (Dense)               (None, 10)                16010     \n",
      "                                                                 \n",
      "=================================================================\n",
      "Total params: 34,826\n",
      "Trainable params: 34,826\n",
      "Non-trainable params: 0\n",
      "_________________________________________________________________\n"
     ]
    },
    {
     "name": "stderr",
     "output_type": "stream",
     "text": [
      "2023-05-23 22:45:44.137532: I tensorflow/core/platform/cpu_feature_guard.cc:193] This TensorFlow binary is optimized with oneAPI Deep Neural Network Library (oneDNN) to use the following CPU instructions in performance-critical operations:  SSE4.1 SSE4.2 AVX AVX2 FMA\n",
      "To enable them in other operations, rebuild TensorFlow with the appropriate compiler flags.\n"
     ]
    }
   ],
   "source": [
    "num_classes = 10\n",
    "model = keras.Sequential(\n",
    "    [\n",
    "        keras.Input(shape=(28, 28, 1)),\n",
    "        keras.layers.Conv2D(32, kernel_size=(3, 3), activation=\"relu\"),\n",
    "        keras.layers.MaxPooling2D(pool_size=(2, 2)),\n",
    "        keras.layers.Conv2D(64, kernel_size=(3, 3), activation=\"relu\"),\n",
    "        keras.layers.MaxPooling2D(pool_size=(2, 2)),\n",
    "        keras.layers.Flatten(),\n",
    "        keras.layers.Dropout(0.5),\n",
    "        keras.layers.Dense(num_classes, activation=\"softmax\"),\n",
    "    ]\n",
    ")\n",
    "model.summary()"
   ]
  },
  {
   "cell_type": "code",
   "execution_count": 41,
   "metadata": {
    "slideshow": {
     "slide_type": "subslide"
    }
   },
   "outputs": [],
   "source": [
    "x_train = x_train.astype(\"float32\") / 255\n",
    "x_valid = x_valid.astype(\"float32\") / 255\n",
    "x_train = x_train[:, :, :, np.newaxis]\n",
    "x_valid = x_valid[:, :, :, np.newaxis]\n",
    "y_train = keras.utils.to_categorical(y_train, num_classes)\n",
    "y_valid = keras.utils.to_categorical(y_valid, num_classes)"
   ]
  },
  {
   "cell_type": "code",
   "execution_count": 42,
   "metadata": {
    "slideshow": {
     "slide_type": "subslide"
    }
   },
   "outputs": [
    {
     "name": "stdout",
     "output_type": "stream",
     "text": [
      "Epoch 1/15\n",
      "422/422 [==============================] - 34s 78ms/step - loss: 0.7019 - accuracy: 0.7456 - val_loss: 0.4570 - val_accuracy: 0.8383\n",
      "Epoch 2/15\n",
      "422/422 [==============================] - 32s 76ms/step - loss: 0.4591 - accuracy: 0.8354 - val_loss: 0.3962 - val_accuracy: 0.8638\n",
      "Epoch 3/15\n",
      "422/422 [==============================] - 33s 77ms/step - loss: 0.4094 - accuracy: 0.8548 - val_loss: 0.3531 - val_accuracy: 0.8737\n",
      "Epoch 4/15\n",
      "422/422 [==============================] - 33s 77ms/step - loss: 0.3809 - accuracy: 0.8639 - val_loss: 0.3427 - val_accuracy: 0.8775\n",
      "Epoch 5/15\n",
      "422/422 [==============================] - 33s 79ms/step - loss: 0.3596 - accuracy: 0.8726 - val_loss: 0.3206 - val_accuracy: 0.8865\n",
      "Epoch 6/15\n",
      "422/422 [==============================] - 33s 78ms/step - loss: 0.3431 - accuracy: 0.8774 - val_loss: 0.3141 - val_accuracy: 0.8872\n",
      "Epoch 7/15\n",
      "422/422 [==============================] - 34s 80ms/step - loss: 0.3314 - accuracy: 0.8811 - val_loss: 0.2946 - val_accuracy: 0.8940\n",
      "Epoch 8/15\n",
      "422/422 [==============================] - 34s 81ms/step - loss: 0.3156 - accuracy: 0.8863 - val_loss: 0.2871 - val_accuracy: 0.8982\n",
      "Epoch 9/15\n",
      "422/422 [==============================] - 33s 78ms/step - loss: 0.3110 - accuracy: 0.8880 - val_loss: 0.2812 - val_accuracy: 0.8965\n",
      "Epoch 10/15\n",
      "422/422 [==============================] - 32s 76ms/step - loss: 0.3022 - accuracy: 0.8894 - val_loss: 0.2916 - val_accuracy: 0.8932\n",
      "Epoch 11/15\n",
      "422/422 [==============================] - 32s 77ms/step - loss: 0.2940 - accuracy: 0.8942 - val_loss: 0.2743 - val_accuracy: 0.8977\n",
      "Epoch 12/15\n",
      "422/422 [==============================] - 32s 76ms/step - loss: 0.2899 - accuracy: 0.8943 - val_loss: 0.2662 - val_accuracy: 0.9050\n",
      "Epoch 13/15\n",
      "422/422 [==============================] - 31s 74ms/step - loss: 0.2848 - accuracy: 0.8962 - val_loss: 0.2644 - val_accuracy: 0.9037\n",
      "Epoch 14/15\n",
      "422/422 [==============================] - 31s 74ms/step - loss: 0.2790 - accuracy: 0.8991 - val_loss: 0.2645 - val_accuracy: 0.9042\n",
      "Epoch 15/15\n",
      "422/422 [==============================] - 33s 77ms/step - loss: 0.2761 - accuracy: 0.9014 - val_loss: 0.2685 - val_accuracy: 0.9035\n",
      "313/313 [==============================] - 2s 7ms/step\n"
     ]
    }
   ],
   "source": [
    "model.compile(loss=\"categorical_crossentropy\", optimizer=\"adam\", metrics=[\"accuracy\"])\n",
    "model.fit(x_train, y_train, batch_size=128, epochs=15, validation_split=0.1)\n",
    "y_hat = model.predict(x_valid)"
   ]
  },
  {
   "cell_type": "code",
   "execution_count": 43,
   "metadata": {
    "slideshow": {
     "slide_type": "subslide"
    }
   },
   "outputs": [
    {
     "name": "stdout",
     "output_type": "stream",
     "text": [
      "313/313 [==============================] - 2s 7ms/step - loss: 0.2812 - accuracy: 0.8984\n",
      "Accuracy: 89.84%\n",
      "Error rate: 10.16%\n"
     ]
    }
   ],
   "source": [
    "loss, accuracy = model.evaluate(x_valid, y_valid)\n",
    "print(\"Accuracy: {:.2f}%\".format(accuracy*100))\n",
    "print(\"Error rate: {:.2f}%\".format((1 - accuracy)*100))"
   ]
  }
 ],
 "metadata": {
  "celltoolbar": "Slideshow",
  "kernelspec": {
   "display_name": "Python 3 (ipykernel)",
   "language": "python",
   "name": "python3"
  },
  "language_info": {
   "codemirror_mode": {
    "name": "ipython",
    "version": 3
   },
   "file_extension": ".py",
   "mimetype": "text/x-python",
   "name": "python",
   "nbconvert_exporter": "python",
   "pygments_lexer": "ipython3",
   "version": "3.9.16"
  }
 },
 "nbformat": 4,
 "nbformat_minor": 4
}
