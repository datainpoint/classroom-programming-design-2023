{
 "cells": [
  {
   "cell_type": "markdown",
   "metadata": {
    "slideshow": {
     "slide_type": "slide"
    }
   },
   "source": [
    "# Programming Design\n",
    "\n",
    "> Getting started with Python\n",
    "\n",
    "Yao-Jen Kuo <yaojenkuo@ntu.edu.tw> from [DATAINPOINT](https://www.datainpoint.com/)"
   ]
  },
  {
   "cell_type": "markdown",
   "metadata": {
    "slideshow": {
     "slide_type": "slide"
    }
   },
   "source": [
    "## The Python Trivia"
   ]
  },
  {
   "cell_type": "markdown",
   "metadata": {
    "slideshow": {
     "slide_type": "subslide"
    }
   },
   "source": [
    "## (Recap)We will use Python as the programming language which tackles the entire pipeline\n",
    "\n",
    "![Imgur](https://i.imgur.com/din6Ig6.png)\n",
    "\n",
    "Source: [R for Data Science](https://r4ds.had.co.nz/)"
   ]
  },
  {
   "cell_type": "markdown",
   "metadata": {
    "slideshow": {
     "slide_type": "subslide"
    }
   },
   "source": [
    "## Critical elements of writing/running a Python program\n",
    "\n",
    "- Integrated development environment(IDE).\n",
    "    - Text editor.\n",
    "    - Terminal.\n",
    "    - Python interpreter."
   ]
  },
  {
   "cell_type": "markdown",
   "metadata": {
    "slideshow": {
     "slide_type": "subslide"
    }
   },
   "source": [
    "## Getting ready to program with Python\n",
    "\n",
    "- No installation needed:\n",
    "    - [mybinder.org](https://mybinder.org/v2/gh/jovyans/environment-jovyans-datascience-notebook/HEAD): No authentication needed, but inconsistent.\n",
    "    - [Replit](https://replit.com/): Needs login authentication.\n",
    "    - [Google Colab](https://colab.research.google.com): Needs Gmail authentication.\n",
    "- Install locally:\n",
    "    - [Miniconda](https://docs.conda.io/en/latest/miniconda.html) brings us Python interpreter and Terminal.\n",
    "    - [Visual Studio Code](https://code.visualstudio.com) brings us text editor."
   ]
  },
  {
   "cell_type": "markdown",
   "metadata": {
    "slideshow": {
     "slide_type": "subslide"
    }
   },
   "source": [
    "## Given Python is a general-purposed programming language, there are various way setting up a Python development environment"
   ]
  },
  {
   "cell_type": "markdown",
   "metadata": {
    "slideshow": {
     "slide_type": "subslide"
    }
   },
   "source": [
    "## It is a mix-and-match challenge\n",
    "\n",
    "- The operating system.\n",
    "- The Python interpreter.\n",
    "- The Integrated Development Environment.\n",
    "- The package/environment manager."
   ]
  },
  {
   "cell_type": "markdown",
   "metadata": {
    "slideshow": {
     "slide_type": "subslide"
    }
   },
   "source": [
    "## Everyone has its own favorite flavour\n",
    "\n",
    "![](https://media.giphy.com/media/cCEt1ShfzOa3u/giphy.gif)\n",
    "\n",
    "Source: <https://giphy.com/>"
   ]
  },
  {
   "cell_type": "markdown",
   "metadata": {
    "slideshow": {
     "slide_type": "subslide"
    }
   },
   "source": [
    "## When you are more familiar with Python, learn advanced topics then choose your own flavour regarding your...\n",
    "\n",
    "- The operating system.\n",
    "- The Python interpreter.\n",
    "- The Integrated Development Environment.\n",
    "- The package/environment manager."
   ]
  },
  {
   "cell_type": "markdown",
   "metadata": {
    "slideshow": {
     "slide_type": "subslide"
    }
   },
   "source": [
    "## Install locally with [Miniconda](https://docs.conda.io/en/latest/miniconda.html) and [Visual Studio Code](https://code.visualstudio.com)\n",
    "\n",
    "- [Miniconda](https://docs.conda.io/en/latest/miniconda.html)\n",
    "- [Visual Studio Code](https://code.visualstudio.com)\n",
    "    - Install [Microsoft Python Extension](https://marketplace.visualstudio.com/items?itemName=ms-python.python) after Visual Studio Code is installed.\n",
    "    - Select the Miniconda Python interpreter by clicking on the status bar.\n",
    "    - Open Anaconda Prompt/Terminal and use command `python --version` after installation."
   ]
  },
  {
   "cell_type": "markdown",
   "metadata": {
    "slideshow": {
     "slide_type": "subslide"
    }
   },
   "source": [
    "## A few Python programs to try on first\n",
    "\n",
    "- Hello, world!\n",
    "- The Zen of Python."
   ]
  },
  {
   "cell_type": "markdown",
   "metadata": {
    "slideshow": {
     "slide_type": "subslide"
    }
   },
   "source": [
    "## Hello, world!"
   ]
  },
  {
   "cell_type": "code",
   "execution_count": 1,
   "metadata": {
    "slideshow": {
     "slide_type": "-"
    }
   },
   "outputs": [
    {
     "name": "stdout",
     "output_type": "stream",
     "text": [
      "Hello, world!\n"
     ]
    }
   ],
   "source": [
    "print(\"Hello, world!\")"
   ]
  },
  {
   "cell_type": "markdown",
   "metadata": {
    "slideshow": {
     "slide_type": "subslide"
    }
   },
   "source": [
    "## Zen of Python\n",
    "\n",
    "Long time Pythoneer [Tim Peters](https://en.wikipedia.org/wiki/Tim_Peters_(software_engineer)) succinctly channels the BDFL's guiding principles for Python's design into 20 aphorisms, only 19 of which have been written down."
   ]
  },
  {
   "cell_type": "code",
   "execution_count": 2,
   "metadata": {
    "slideshow": {
     "slide_type": "subslide"
    }
   },
   "outputs": [
    {
     "name": "stdout",
     "output_type": "stream",
     "text": [
      "The Zen of Python, by Tim Peters\n",
      "\n",
      "Beautiful is better than ugly.\n",
      "Explicit is better than implicit.\n",
      "Simple is better than complex.\n",
      "Complex is better than complicated.\n",
      "Flat is better than nested.\n",
      "Sparse is better than dense.\n",
      "Readability counts.\n",
      "Special cases aren't special enough to break the rules.\n",
      "Although practicality beats purity.\n",
      "Errors should never pass silently.\n",
      "Unless explicitly silenced.\n",
      "In the face of ambiguity, refuse the temptation to guess.\n",
      "There should be one-- and preferably only one --obvious way to do it.\n",
      "Although that way may not be obvious at first unless you're Dutch.\n",
      "Now is better than never.\n",
      "Although never is often better than *right* now.\n",
      "If the implementation is hard to explain, it's a bad idea.\n",
      "If the implementation is easy to explain, it may be a good idea.\n",
      "Namespaces are one honking great idea -- let's do more of those!\n"
     ]
    }
   ],
   "source": [
    "import this"
   ]
  },
  {
   "cell_type": "markdown",
   "metadata": {
    "slideshow": {
     "slide_type": "subslide"
    }
   },
   "source": [
    "## My favorite one would be:\n",
    "\n",
    "> Now is better than never.\n",
    "\n",
    "How about yours?"
   ]
  },
  {
   "cell_type": "markdown",
   "metadata": {
    "slideshow": {
     "slide_type": "subslide"
    }
   },
   "source": [
    "## Learn a bit more about what terminal/bash/command line is\n",
    "\n",
    "- [Chapter 2 The Command Line, Technical Foundations of Informatics](https://info201.github.io/command-line.html)\n",
    "- [Learn Enough Command Line to be Dangerous](https://www.learnenough.com/command-line-tutorial#sec-basics)\n",
    "- [Unix Command Summary](http://www.math.utah.edu/lab/unix/unix-commands.html)"
   ]
  },
  {
   "cell_type": "markdown",
   "metadata": {
    "slideshow": {
     "slide_type": "subslide"
    }
   },
   "source": [
    "## Using [Stack Overflow](https://stackoverflow.com) and [Pythontutor.com](https://pythontutor.com/visualize.html) to help us learn programming\n",
    "\n",
    "- [Stack Overflow](https://stackoverflow.com)\n",
    "- [Pythontutor.com](https://pythontutor.com/visualize.html)"
   ]
  },
  {
   "cell_type": "markdown",
   "metadata": {
    "slideshow": {
     "slide_type": "subslide"
    }
   },
   "source": [
    "## How to use [Stack Overflow](https://stackoverflow.com/questions/1663807/how-to-iterate-through-two-lists-in-parallel) efficiently?\n",
    "\n",
    "- The first post is question itself.\n",
    "- The second post, if checked \"Green\", is the answer chose by the initiator.\n",
    "- The third post, is the answer up-voted most by others."
   ]
  },
  {
   "cell_type": "markdown",
   "metadata": {
    "slideshow": {
     "slide_type": "subslide"
    }
   },
   "source": [
    "## My favorite O'Reilly book(?)\n",
    "\n",
    "![Imgur](https://i.imgur.com/Vs13bJj.jpg?1)\n",
    "\n",
    "Source: Google Search"
   ]
  },
  {
   "cell_type": "markdown",
   "metadata": {
    "slideshow": {
     "slide_type": "slide"
    }
   },
   "source": [
    "## Functions"
   ]
  },
  {
   "cell_type": "markdown",
   "metadata": {
    "slideshow": {
     "slide_type": "subslide"
    }
   },
   "source": [
    "## What is `print()` in our previous example?\n",
    "\n",
    "```python\n",
    "print(\"Hello, world!\")\n",
    "```\n",
    "\n",
    "`print()` is one of the so-called **built-in** functions in Python."
   ]
  },
  {
   "cell_type": "markdown",
   "metadata": {
    "slideshow": {
     "slide_type": "subslide"
    }
   },
   "source": [
    "## What is a function\n",
    "\n",
    "A function is a named sequence of statements that performs a computation, either mathematical, symbolic, or graphical. When we define a function, we specify the name and the sequence of statements. Later, we can call the function by name."
   ]
  },
  {
   "cell_type": "markdown",
   "metadata": {
    "slideshow": {
     "slide_type": "subslide"
    }
   },
   "source": [
    "## How do we analyze a function?\n",
    "\n",
    "- function name.\n",
    "- inputs and parameters, if any.\n",
    "- sequence of statements in a code block belongs to the function itself.\n",
    "- outputs, if any."
   ]
  },
  {
   "cell_type": "markdown",
   "metadata": {
    "slideshow": {
     "slide_type": "subslide"
    }
   },
   "source": [
    "## Take bubble tea shop for instance\n",
    "\n",
    "![Imgur](https://i.imgur.com/6gpJebm.jpg?1)\n",
    "\n",
    "Source: Google Search"
   ]
  },
  {
   "cell_type": "markdown",
   "metadata": {
    "slideshow": {
     "slide_type": "subslide"
    }
   },
   "source": [
    "## What is a built-in function?\n",
    "\n",
    "A pre-defined function, we can call the function by name without defining it."
   ]
  },
  {
   "cell_type": "markdown",
   "metadata": {
    "slideshow": {
     "slide_type": "subslide"
    }
   },
   "source": [
    "## How many built-in functions are available?\n",
    "\n",
    "- `print()`\n",
    "- `help()`\n",
    "- `type()`\n",
    "- ...etc.\n",
    "\n",
    "Source: https://docs.python.org/3/library/functions.html"
   ]
  },
  {
   "cell_type": "markdown",
   "metadata": {
    "slideshow": {
     "slide_type": "subslide"
    }
   },
   "source": [
    "## Get HELP with `help()`"
   ]
  },
  {
   "cell_type": "code",
   "execution_count": 3,
   "metadata": {
    "slideshow": {
     "slide_type": "subslide"
    }
   },
   "outputs": [
    {
     "name": "stdout",
     "output_type": "stream",
     "text": [
      "Help on built-in function print in module builtins:\n",
      "\n",
      "print(...)\n",
      "    print(value, ..., sep=' ', end='\\n', file=sys.stdout, flush=False)\n",
      "    \n",
      "    Prints the values to a stream, or to sys.stdout by default.\n",
      "    Optional keyword arguments:\n",
      "    file:  a file-like object (stream); defaults to the current sys.stdout.\n",
      "    sep:   string inserted between values, default a space.\n",
      "    end:   string appended after the last value, default a newline.\n",
      "    flush: whether to forcibly flush the stream.\n",
      "\n"
     ]
    }
   ],
   "source": [
    "help(print)"
   ]
  },
  {
   "cell_type": "code",
   "execution_count": 4,
   "metadata": {
    "slideshow": {
     "slide_type": "subslide"
    }
   },
   "outputs": [
    {
     "name": "stdout",
     "output_type": "stream",
     "text": [
      "Help on class type in module builtins:\n",
      "\n",
      "class type(object)\n",
      " |  type(object) -> the object's type\n",
      " |  type(name, bases, dict, **kwds) -> a new type\n",
      " |  \n",
      " |  Methods defined here:\n",
      " |  \n",
      " |  __call__(self, /, *args, **kwargs)\n",
      " |      Call self as a function.\n",
      " |  \n",
      " |  __delattr__(self, name, /)\n",
      " |      Implement delattr(self, name).\n",
      " |  \n",
      " |  __dir__(self, /)\n",
      " |      Specialized __dir__ implementation for types.\n",
      " |  \n",
      " |  __getattribute__(self, name, /)\n",
      " |      Return getattr(self, name).\n",
      " |  \n",
      " |  __init__(self, /, *args, **kwargs)\n",
      " |      Initialize self.  See help(type(self)) for accurate signature.\n",
      " |  \n",
      " |  __instancecheck__(self, instance, /)\n",
      " |      Check if an object is an instance.\n",
      " |  \n",
      " |  __repr__(self, /)\n",
      " |      Return repr(self).\n",
      " |  \n",
      " |  __setattr__(self, name, value, /)\n",
      " |      Implement setattr(self, name, value).\n",
      " |  \n",
      " |  __sizeof__(self, /)\n",
      " |      Return memory consumption of the type object.\n",
      " |  \n",
      " |  __subclasscheck__(self, subclass, /)\n",
      " |      Check if a class is a subclass.\n",
      " |  \n",
      " |  __subclasses__(self, /)\n",
      " |      Return a list of immediate subclasses.\n",
      " |  \n",
      " |  mro(self, /)\n",
      " |      Return a type's method resolution order.\n",
      " |  \n",
      " |  ----------------------------------------------------------------------\n",
      " |  Class methods defined here:\n",
      " |  \n",
      " |  __prepare__(...)\n",
      " |      __prepare__() -> dict\n",
      " |      used to create the namespace for the class statement\n",
      " |  \n",
      " |  ----------------------------------------------------------------------\n",
      " |  Static methods defined here:\n",
      " |  \n",
      " |  __new__(*args, **kwargs)\n",
      " |      Create and return a new object.  See help(type) for accurate signature.\n",
      " |  \n",
      " |  ----------------------------------------------------------------------\n",
      " |  Data descriptors defined here:\n",
      " |  \n",
      " |  __abstractmethods__\n",
      " |  \n",
      " |  __dict__\n",
      " |  \n",
      " |  __text_signature__\n",
      " |  \n",
      " |  ----------------------------------------------------------------------\n",
      " |  Data and other attributes defined here:\n",
      " |  \n",
      " |  __base__ = <class 'object'>\n",
      " |      The base class of the class hierarchy.\n",
      " |      \n",
      " |      When called, it accepts no arguments and returns a new featureless\n",
      " |      instance that has no instance attributes and cannot be given any.\n",
      " |  \n",
      " |  \n",
      " |  __bases__ = (<class 'object'>,)\n",
      " |  \n",
      " |  __basicsize__ = 880\n",
      " |  \n",
      " |  __dictoffset__ = 264\n",
      " |  \n",
      " |  __flags__ = 2148293632\n",
      " |  \n",
      " |  __itemsize__ = 40\n",
      " |  \n",
      " |  __mro__ = (<class 'type'>, <class 'object'>)\n",
      " |  \n",
      " |  __weakrefoffset__ = 368\n",
      "\n"
     ]
    }
   ],
   "source": [
    "help(type)"
   ]
  },
  {
   "cell_type": "markdown",
   "metadata": {
    "slideshow": {
     "slide_type": "subslide"
    }
   },
   "source": [
    "## We can also `help()` on `help()`"
   ]
  },
  {
   "cell_type": "code",
   "execution_count": 5,
   "metadata": {},
   "outputs": [
    {
     "name": "stdout",
     "output_type": "stream",
     "text": [
      "Help on _Helper in module _sitebuiltins object:\n",
      "\n",
      "class _Helper(builtins.object)\n",
      " |  Define the builtin 'help'.\n",
      " |  \n",
      " |  This is a wrapper around pydoc.help that provides a helpful message\n",
      " |  when 'help' is typed at the Python interactive prompt.\n",
      " |  \n",
      " |  Calling help() at the Python prompt starts an interactive help session.\n",
      " |  Calling help(thing) prints help for the python object 'thing'.\n",
      " |  \n",
      " |  Methods defined here:\n",
      " |  \n",
      " |  __call__(self, *args, **kwds)\n",
      " |      Call self as a function.\n",
      " |  \n",
      " |  __repr__(self)\n",
      " |      Return repr(self).\n",
      " |  \n",
      " |  ----------------------------------------------------------------------\n",
      " |  Data descriptors defined here:\n",
      " |  \n",
      " |  __dict__\n",
      " |      dictionary for instance variables (if defined)\n",
      " |  \n",
      " |  __weakref__\n",
      " |      list of weak references to the object (if defined)\n",
      "\n"
     ]
    }
   ],
   "source": [
    "help(help)"
   ]
  },
  {
   "cell_type": "markdown",
   "metadata": {
    "slideshow": {
     "slide_type": "subslide"
    }
   },
   "source": [
    "## Besides built-in functions or library-powered functions, we sometimes need to self-define our own functions\n",
    "\n",
    "- `def` the name of our function\n",
    "- `return` the output of our function\n",
    "\n",
    "```python\n",
    "def function_name(INPUTS: type, PARAMETERS: type, ...) -> type:\n",
    "    \"\"\"\n",
    "    docstring: print documentation when help() is called\n",
    "    \"\"\"\n",
    "    # sequence of statements\n",
    "    return OUTPUTS\n",
    "```"
   ]
  },
  {
   "cell_type": "code",
   "execution_count": 6,
   "metadata": {
    "slideshow": {
     "slide_type": "subslide"
    }
   },
   "outputs": [
    {
     "name": "stdout",
     "output_type": "stream",
     "text": [
      "Help on function add in module __main__:\n",
      "\n",
      "add(x: int, y: int) -> int\n",
      "    Equivalent to x + y\n",
      "    >>> add(5, 6)\n",
      "    11\n",
      "    >>> add(55, 66)\n",
      "    121\n",
      "    >>> add(8, 7)\n",
      "    15\n",
      "\n"
     ]
    }
   ],
   "source": [
    "# Definition\n",
    "def add(x: int, y: int) -> int:\n",
    "    \"\"\"\n",
    "    Equivalent to x + y\n",
    "    >>> add(5, 6)\n",
    "    11\n",
    "    >>> add(55, 66)\n",
    "    121\n",
    "    >>> add(8, 7)\n",
    "    15\n",
    "    \"\"\"\n",
    "    return x + y\n",
    "\n",
    "help(add)"
   ]
  },
  {
   "cell_type": "markdown",
   "metadata": {
    "slideshow": {
     "slide_type": "subslide"
    }
   },
   "source": [
    "## Call the function by name after defining it"
   ]
  },
  {
   "cell_type": "code",
   "execution_count": 7,
   "metadata": {},
   "outputs": [
    {
     "name": "stdout",
     "output_type": "stream",
     "text": [
      "11\n"
     ]
    }
   ],
   "source": [
    "print(add(5, 6))"
   ]
  },
  {
   "cell_type": "markdown",
   "metadata": {
    "slideshow": {
     "slide_type": "subslide"
    }
   },
   "source": [
    "## (Recap)Basic components appear in this course\n",
    "\n",
    "- Input: function inputs or initiating object of a certain class.\n",
    "- Output: function outputs or object methods.\n",
    "- Computing: the body of a function/class definition.\n",
    "- Conditional execution: the body of a function/class definition.\n",
    "- Repetition: the body of a function/class definition.\n",
    "- Testing: a practical way to validate the functionality of programming."
   ]
  },
  {
   "cell_type": "code",
   "execution_count": 8,
   "metadata": {
    "slideshow": {
     "slide_type": "subslide"
    }
   },
   "outputs": [
    {
     "name": "stderr",
     "output_type": "stream",
     "text": [
      "test_add_function (__main__.AddFunctionTest) ... ok\n",
      "\n",
      "----------------------------------------------------------------------\n",
      "Ran 1 test in 0.004s\n",
      "\n",
      "OK\n"
     ]
    },
    {
     "data": {
      "text/plain": [
       "<unittest.runner.TextTestResult run=1 errors=0 failures=0>"
      ]
     },
     "execution_count": 8,
     "metadata": {},
     "output_type": "execute_result"
    }
   ],
   "source": [
    "import unittest\n",
    "\n",
    "# Testing\n",
    "class AddFunctionTest(unittest.TestCase):\n",
    "    def test_add_function(self):\n",
    "        self.assertEqual(add(5, 6), 11)\n",
    "        self.assertEqual(add(55, 66), 121)\n",
    "        self.assertEqual(add(8, 7), 15)\n",
    "suite = unittest.TestLoader().loadTestsFromTestCase(AddFunctionTest)\n",
    "runner = unittest.TextTestRunner(verbosity=2)\n",
    "runner.run(suite)"
   ]
  },
  {
   "cell_type": "markdown",
   "metadata": {
    "slideshow": {
     "slide_type": "subslide"
    }
   },
   "source": [
    "## Programming based on testing is called TDD, Test-Driven Development\n",
    "\n",
    "- Test-driven development (TDD) is a software development process relying on software requirements being converted to test cases before software is fully developed.\n",
    "- Our assignments and exams are the minimal version of TDD."
   ]
  },
  {
   "cell_type": "markdown",
   "metadata": {
    "slideshow": {
     "slide_type": "slide"
    }
   },
   "source": [
    "## Arithmetic Operators in Python"
   ]
  },
  {
   "cell_type": "markdown",
   "metadata": {
    "slideshow": {
     "slide_type": "subslide"
    }
   },
   "source": [
    "## Symbols that represent computations\n",
    "\n",
    "- `+`, `-`, `*`, `/` are quite straight-forward.\n",
    "- `**` for exponentiation.\n",
    "- `%` for remainder.\n",
    "- `//` for floor-divide."
   ]
  },
  {
   "cell_type": "markdown",
   "metadata": {
    "slideshow": {
     "slide_type": "subslide"
    }
   },
   "source": [
    "## When an expression contains more than one operator, the order of evaluation depends on the operator precedence\n",
    "\n",
    "1. Parentheses have the highest precedence.\n",
    "2. Exponentiation has the next highest precedence.\n",
    "3. Multiplication and division have higher precedence than addition and subtraction.\n",
    "4. Operators with the same precedence are evaluated from left to right."
   ]
  },
  {
   "cell_type": "markdown",
   "metadata": {
    "slideshow": {
     "slide_type": "subslide"
    }
   },
   "source": [
    "## Converting Fahrenheit to Celsius\n",
    "\n",
    "\\begin{equation}\n",
    "\\text{Celsius}(^{\\circ}C) = (Fahrenheit(^{\\circ}F) - 32) \\times \\frac{5}{9}\n",
    "\\end{equation}"
   ]
  },
  {
   "cell_type": "code",
   "execution_count": 9,
   "metadata": {
    "slideshow": {
     "slide_type": "subslide"
    }
   },
   "outputs": [
    {
     "name": "stdout",
     "output_type": "stream",
     "text": [
      "0.0\n",
      "100.0\n"
     ]
    }
   ],
   "source": [
    "def convert_fahrenheit_to_celsius(x: int) -> float:\n",
    "    \"\"\"\n",
    "    Converting from fahrenheit scale to celsius scale.\n",
    "    >>> convert_fahrenheit_to_celsius(32)\n",
    "    0.0\n",
    "    >>> convert_fahrenheit_to_celsius(212)\n",
    "    100.0\n",
    "    \"\"\"\n",
    "    out = (x - 32) * 5/9\n",
    "    return out\n",
    "\n",
    "print(convert_fahrenheit_to_celsius(32))\n",
    "print(convert_fahrenheit_to_celsius(212))"
   ]
  },
  {
   "cell_type": "code",
   "execution_count": 10,
   "metadata": {
    "slideshow": {
     "slide_type": "subslide"
    }
   },
   "outputs": [
    {
     "name": "stderr",
     "output_type": "stream",
     "text": [
      "test_convert_fahrenheit_to_celsius (__main__.ConvertFahrenheitToCelsiusFunctionTest) ... ok\n",
      "\n",
      "----------------------------------------------------------------------\n",
      "Ran 1 test in 0.005s\n",
      "\n",
      "OK\n"
     ]
    },
    {
     "data": {
      "text/plain": [
       "<unittest.runner.TextTestResult run=1 errors=0 failures=0>"
      ]
     },
     "execution_count": 10,
     "metadata": {},
     "output_type": "execute_result"
    }
   ],
   "source": [
    "# Testing\n",
    "class ConvertFahrenheitToCelsiusFunctionTest(unittest.TestCase):\n",
    "    def test_convert_fahrenheit_to_celsius(self):\n",
    "        self.assertTrue(convert_fahrenheit_to_celsius(32) <= 0.0)\n",
    "        self.assertTrue(convert_fahrenheit_to_celsius(212) >= 100.0)\n",
    "suite = unittest.TestLoader().loadTestsFromTestCase(ConvertFahrenheitToCelsiusFunctionTest)\n",
    "runner = unittest.TextTestRunner(verbosity=2)\n",
    "runner.run(suite)"
   ]
  },
  {
   "cell_type": "markdown",
   "metadata": {
    "slideshow": {
     "slide_type": "subslide"
    }
   },
   "source": [
    "## How to properly use functions?\n",
    "\n",
    "- Using arguments to adjust the output of a defined function.\n",
    "- Differentiate functions versus methods.\n",
    "- Be aware of the update mechanism."
   ]
  },
  {
   "cell_type": "markdown",
   "metadata": {
    "slideshow": {
     "slide_type": "subslide"
    }
   },
   "source": [
    "## `sorted()` function takes a `bool` argument for `reverse` parameter"
   ]
  },
  {
   "cell_type": "code",
   "execution_count": 11,
   "metadata": {
    "slideshow": {
     "slide_type": "-"
    }
   },
   "outputs": [
    {
     "name": "stdout",
     "output_type": "stream",
     "text": [
      "[11, 7, 5, 3, 2]\n",
      "[2, 3, 5, 7, 11]\n"
     ]
    }
   ],
   "source": [
    "list_to_be_sorted = [11, 5, 7, 2, 3]\n",
    "print(sorted(list_to_be_sorted, reverse=True))\n",
    "print(sorted(list_to_be_sorted))"
   ]
  },
  {
   "cell_type": "markdown",
   "metadata": {
    "slideshow": {
     "slide_type": "subslide"
    }
   },
   "source": [
    "## Different syntax\n",
    "\n",
    "```python\n",
    "function_name(OBJECT, ARGUMENTS) # function\n",
    "OBJECT.method_name(ARGUMENTS)    # method\n",
    "```"
   ]
  },
  {
   "cell_type": "markdown",
   "metadata": {
    "slideshow": {
     "slide_type": "subslide"
    }
   },
   "source": [
    "## `list` has a method `sort()` works like `sorted()` function"
   ]
  },
  {
   "cell_type": "code",
   "execution_count": 12,
   "metadata": {
    "slideshow": {
     "slide_type": "subslide"
    }
   },
   "outputs": [
    {
     "name": "stdout",
     "output_type": "stream",
     "text": [
      "[2, 3, 5, 7, 11]\n",
      "[2, 3, 5, 7, 11]\n"
     ]
    }
   ],
   "source": [
    "list_to_be_sorted = [11, 5, 7, 2, 3]\n",
    "print(sorted(list_to_be_sorted))\n",
    "list_to_be_sorted.sort()\n",
    "print(list_to_be_sorted)"
   ]
  },
  {
   "cell_type": "markdown",
   "metadata": {
    "slideshow": {
     "slide_type": "subslide"
    }
   },
   "source": [
    "## How is the `list_to_be_sorted` being updated?"
   ]
  },
  {
   "cell_type": "code",
   "execution_count": 13,
   "metadata": {
    "slideshow": {
     "slide_type": "-"
    }
   },
   "outputs": [
    {
     "name": "stdout",
     "output_type": "stream",
     "text": [
      "[2, 3, 5, 7, 11]\n"
     ]
    }
   ],
   "source": [
    "# update through return\n",
    "list_to_be_sorted = [11, 5, 7, 2, 3]\n",
    "sorted_list = sorted(list_to_be_sorted)\n",
    "print(sorted_list)"
   ]
  },
  {
   "cell_type": "code",
   "execution_count": 14,
   "metadata": {
    "slideshow": {
     "slide_type": "subslide"
    }
   },
   "outputs": [
    {
     "name": "stdout",
     "output_type": "stream",
     "text": [
      "[2, 3, 5, 7, 11]\n"
     ]
    }
   ],
   "source": [
    "# update through change of state\n",
    "list_to_be_sorted = [11, 5, 7, 2, 3]\n",
    "list_to_be_sorted.sort()\n",
    "print(list_to_be_sorted)"
   ]
  },
  {
   "cell_type": "markdown",
   "metadata": {
    "slideshow": {
     "slide_type": "subslide"
    }
   },
   "source": [
    "## Writing and grading an assignment is like running a tiny round of TDD\n",
    "\n",
    "- Login to your [Replit](https://replit.com) account.\n",
    "- Fork the assignment repl as your own repl, e.g. [Assignment 0](https://replit.com/@yaojenkuo/asgmt-0-programming-design-2023?v=1)\n",
    "- Run `test_runner.py` before submission."
   ]
  },
  {
   "cell_type": "markdown",
   "metadata": {
    "slideshow": {
     "slide_type": "subslide"
    }
   },
   "source": [
    "## (Recap)Using [Stack Overflow](https://stackoverflow.com) and [Pythontutor.com](https://pythontutor.com/visualize.html) to help us learn programming\n",
    "\n",
    "- [Stack Overflow](https://stackoverflow.com)\n",
    "- [Pythontutor.com](https://pythontutor.com/visualize.html)"
   ]
  }
 ],
 "metadata": {
  "celltoolbar": "Slideshow",
  "kernelspec": {
   "display_name": "Python 3 (ipykernel)",
   "language": "python",
   "name": "python3"
  },
  "language_info": {
   "codemirror_mode": {
    "name": "ipython",
    "version": 3
   },
   "file_extension": ".py",
   "mimetype": "text/x-python",
   "name": "python",
   "nbconvert_exporter": "python",
   "pygments_lexer": "ipython3",
   "version": "3.9.12"
  }
 },
 "nbformat": 4,
 "nbformat_minor": 2
}
