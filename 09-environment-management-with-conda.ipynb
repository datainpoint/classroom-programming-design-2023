{
 "cells": [
  {
   "cell_type": "markdown",
   "metadata": {
    "slideshow": {
     "slide_type": "slide"
    }
   },
   "source": [
    "# Programming Design\n",
    "\n",
    "> Environment Management with Python\n",
    "\n",
    "Yao-Jen Kuo <yaojenkuo@ntu.edu.tw> from [DATAINPOINT](https://www.datainpoint.com/)"
   ]
  },
  {
   "cell_type": "markdown",
   "metadata": {
    "slideshow": {
     "slide_type": "slide"
    }
   },
   "source": [
    "## Environment and Module Management"
   ]
  },
  {
   "cell_type": "markdown",
   "metadata": {
    "slideshow": {
     "slide_type": "subslide"
    }
   },
   "source": [
    "## What is environment management?\n",
    "\n",
    "Python applications will often use packages and modules that do not come as part of the standard library. Applications will sometimes need a specific version of a library. This means it may not be possible for one Python installation to meet the requirements of every application."
   ]
  },
  {
   "cell_type": "markdown",
   "metadata": {
    "slideshow": {
     "slide_type": "subslide"
    }
   },
   "source": [
    "## The solution\n",
    "\n",
    "To create a virtual environment, a self-contained directory tree that contains a Python installation for a particular version of Python, plus a number of additional packages."
   ]
  },
  {
   "cell_type": "markdown",
   "metadata": {
    "slideshow": {
     "slide_type": "subslide"
    }
   },
   "source": [
    "## What is module management?\n",
    "\n",
    "A library quickly installs, runs, updates, and even uninstalls modules and their dependencies."
   ]
  },
  {
   "cell_type": "markdown",
   "metadata": {
    "slideshow": {
     "slide_type": "subslide"
    }
   },
   "source": [
    "## The standard environment and module management tools\n",
    "\n",
    "- Environment manager: `venv`：<https://docs.python.org/3/tutorial/venv.html>\n",
    "- Module manager: `pip`：<https://pip.pypa.io/en/stable>"
   ]
  },
  {
   "cell_type": "markdown",
   "metadata": {
    "slideshow": {
     "slide_type": "subslide"
    }
   },
   "source": [
    "## The third party environment and module management tool\n",
    "\n",
    "- `Conda` as a manager for both environments and modules."
   ]
  },
  {
   "cell_type": "markdown",
   "metadata": {
    "slideshow": {
     "slide_type": "subslide"
    }
   },
   "source": [
    "## What is Conda?\n",
    "\n",
    "Conda is an open source package management system and environment management system that runs on Windows, macOS and Linux. Conda quickly installs, runs and updates packages and their dependencies. Conda easily creates, saves, loads and switches between environments on your local computer. It was created for Python programs, but it can package and distribute software for any language."
   ]
  },
  {
   "cell_type": "markdown",
   "metadata": {
    "slideshow": {
     "slide_type": "subslide"
    }
   },
   "source": [
    "## Easiest way to acquire conda\n",
    "\n",
    "- Conda comes with [Miniconda](https://docs.conda.io/en/latest/miniconda.html)\n",
    "- Why choosing Miniconda over Anaconda? Lean."
   ]
  },
  {
   "cell_type": "markdown",
   "metadata": {
    "slideshow": {
     "slide_type": "subslide"
    }
   },
   "source": [
    "## Where to run conda?\n",
    "\n",
    "- Windows users: Use Anaconda Prompt or Anaconda PowerShell comes with Miniconda installation.\n",
    "- macOS users: Use Terminal after Miniconda is installed."
   ]
  },
  {
   "cell_type": "markdown",
   "metadata": {
    "slideshow": {
     "slide_type": "subslide"
    }
   },
   "source": [
    "## Command to validate conda installation and version\n",
    "\n",
    "```bash\n",
    "# run in command line, do not run in jupyter notebooks.\n",
    "(base) conda --version\n",
    "```"
   ]
  },
  {
   "cell_type": "markdown",
   "metadata": {
    "slideshow": {
     "slide_type": "subslide"
    }
   },
   "source": [
    "## Command to install a specific module\n",
    "\n",
    "```bash\n",
    "# run in command line, do not run in jupyter notebooks.\n",
    "(base) conda install jupyter # or run pip install jupyter\n",
    "```"
   ]
  },
  {
   "cell_type": "markdown",
   "metadata": {
    "slideshow": {
     "slide_type": "subslide"
    }
   },
   "source": [
    "## Command to validate available environments\n",
    "\n",
    "```bash\n",
    "# run in command line, do not run in jupyter notebooks.\n",
    "(base) conda env list\n",
    "```"
   ]
  },
  {
   "cell_type": "markdown",
   "metadata": {
    "slideshow": {
     "slide_type": "subslide"
    }
   },
   "source": [
    "## Command to build a new and isolated environment\n",
    "\n",
    "We can validate available environments after the environment is built.\n",
    "\n",
    "```bash\n",
    "# run in command line, do not run in jupyter notebooks.\n",
    "(base) conda create --name ENVNAME python=3.9.7\n",
    "```"
   ]
  },
  {
   "cell_type": "markdown",
   "metadata": {
    "slideshow": {
     "slide_type": "subslide"
    }
   },
   "source": [
    "## Command to activate an environment\n",
    "\n",
    "```bash\n",
    "# run in command line, do not run in jupyter notebooks.\n",
    "(base) conda activate ENVNAME\n",
    "```"
   ]
  },
  {
   "cell_type": "markdown",
   "metadata": {
    "slideshow": {
     "slide_type": "subslide"
    }
   },
   "source": [
    "## Command to install some third-party modules in current environment\n",
    "\n",
    "```bash\n",
    "# run in command line, do not run in jupyter notebooks.\n",
    "(ENVNAME) conda install ipykernel numpy pandas matplotlib scikit-learn # or run pip install ipykernel\n",
    "```"
   ]
  },
  {
   "cell_type": "markdown",
   "metadata": {
    "slideshow": {
     "slide_type": "subslide"
    }
   },
   "source": [
    "## Command to validate kernels of Jupyter Notebook\n",
    "\n",
    "```bash\n",
    "# run in command line, do not run in jupyter notebooks.\n",
    "(ENVNAME) jupyter kernelspec list\n",
    "```"
   ]
  },
  {
   "cell_type": "markdown",
   "metadata": {
    "slideshow": {
     "slide_type": "subslide"
    }
   },
   "source": [
    "## Command to add new kernels for Jupyter Notebook\n",
    "\n",
    "```bash\n",
    "# run in command line, do not run in jupyter notebooks.\n",
    "(ENVNAME) python -m ipykernel install --user --name ENVNAME --display-name \"IPYKERNEL\"\n",
    "```"
   ]
  },
  {
   "cell_type": "markdown",
   "metadata": {
    "slideshow": {
     "slide_type": "subslide"
    }
   },
   "source": [
    "## Command to remove kernels of Jupyter Notebook\n",
    "\n",
    "```bash\n",
    "# run in command line, do not run in jupyter notebooks.\n",
    "(ENVNAME) jupyter kernelspec remove ENVNAME\n",
    "```"
   ]
  },
  {
   "cell_type": "markdown",
   "metadata": {
    "slideshow": {
     "slide_type": "subslide"
    }
   },
   "source": [
    "## Command to deactivate current environment and get back to base\n",
    "\n",
    "```bash\n",
    "# run in command line, do not run in jupyter notebooks.\n",
    "(ENVNAME) conda deactivate\n",
    "```"
   ]
  },
  {
   "cell_type": "markdown",
   "metadata": {
    "slideshow": {
     "slide_type": "subslide"
    }
   },
   "source": [
    "## Command to remove an environment\n",
    "\n",
    "```bash\n",
    "# run in command line, do not run in jupyter notebooks.\n",
    "conda remove --name ENVNAME --all\n",
    "```"
   ]
  },
  {
   "cell_type": "markdown",
   "metadata": {
    "slideshow": {
     "slide_type": "subslide"
    }
   },
   "source": [
    "## How to duplicate the environment of assignments?\n",
    "\n",
    "- Download the `environment.yml` file in assignment to your working directory.\n",
    "- Command to create an environment based on it.\n",
    "\n",
    "```bash\n",
    "# run in command line, do not run in jupyter notebooks.\n",
    "conda env create --file environment.yml\n",
    "```"
   ]
  }
 ],
 "metadata": {
  "celltoolbar": "Slideshow",
  "kernelspec": {
   "display_name": "Python 3 (ipykernel)",
   "language": "python",
   "name": "python3"
  },
  "language_info": {
   "codemirror_mode": {
    "name": "ipython",
    "version": 3
   },
   "file_extension": ".py",
   "mimetype": "text/x-python",
   "name": "python",
   "nbconvert_exporter": "python",
   "pygments_lexer": "ipython3",
   "version": "3.9.16"
  }
 },
 "nbformat": 4,
 "nbformat_minor": 4
}
